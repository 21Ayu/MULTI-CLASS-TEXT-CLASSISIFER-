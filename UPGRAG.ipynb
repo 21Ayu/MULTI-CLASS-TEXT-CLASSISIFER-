{
 "cells": [
  {
   "cell_type": "markdown",
   "id": "805a9489",
   "metadata": {},
   "source": []
  },
  {
   "cell_type": "markdown",
   "id": "55550a69",
   "metadata": {},
   "source": [
    "\n",
    "<div style=\"background-color:#cbfefb; padding:30px; border-radius: 10px; \n",
    "  border: 2px solid black; \n",
    "  padding: 20px;\">\n",
    "    <h1 style=\"color:#2d7ff9;text-align:center;\" >UpGrad Hackathon Challenge </h1>\n",
    "</div>\n"
   ]
  },
  {
   "cell_type": "markdown",
   "id": "88cd858d",
   "metadata": {},
   "source": [
    "# Problem Statement "
   ]
  },
  {
   "cell_type": "markdown",
   "id": "3127a403",
   "metadata": {},
   "source": [
    "## This hackathon aims to create innovative solutions that enhance product categorization efficiency, accuracy, and scalability.Develop a multi-class text classifier that categorizes products with maximum accuracy based on the given dataset. \n"
   ]
  },
  {
   "cell_type": "markdown",
   "id": "7910d6d2",
   "metadata": {},
   "source": [
    "# Importing Necessary Libraaries"
   ]
  },
  {
   "cell_type": "code",
   "execution_count": 2,
   "id": "8c2714fd",
   "metadata": {
    "tags": []
   },
   "outputs": [
    {
     "name": "stderr",
     "output_type": "stream",
     "text": [
      "[nltk_data] Downloading package stopwords to\n",
      "[nltk_data]     C:\\Users\\akaur\\AppData\\Roaming\\nltk_data...\n",
      "[nltk_data]   Package stopwords is already up-to-date!\n",
      "[nltk_data] Downloading package punkt to\n",
      "[nltk_data]     C:\\Users\\akaur\\AppData\\Roaming\\nltk_data...\n",
      "[nltk_data]   Package punkt is already up-to-date!\n",
      "None of PyTorch, TensorFlow >= 2.0, or Flax have been found. Models won't be available and only tokenizers, configuration and file/data utilities can be used.\n"
     ]
    },
    {
     "name": "stdout",
     "output_type": "stream",
     "text": [
      "Requirement already satisfied: scikit-plot in c:\\users\\akaur\\anaconda3\\lib\\site-packages (0.3.7)\n",
      "Requirement already satisfied: matplotlib>=1.4.0 in c:\\users\\akaur\\anaconda3\\lib\\site-packages (from scikit-plot) (3.7.2)\n",
      "Requirement already satisfied: scikit-learn>=0.18 in c:\\users\\akaur\\anaconda3\\lib\\site-packages (from scikit-plot) (1.4.2)\n",
      "Requirement already satisfied: scipy>=0.9 in c:\\users\\akaur\\anaconda3\\lib\\site-packages (from scikit-plot) (1.11.1)\n",
      "Requirement already satisfied: joblib>=0.10 in c:\\users\\akaur\\anaconda3\\lib\\site-packages (from scikit-plot) (1.2.0)\n",
      "Requirement already satisfied: contourpy>=1.0.1 in c:\\users\\akaur\\anaconda3\\lib\\site-packages (from matplotlib>=1.4.0->scikit-plot) (1.0.5)\n",
      "Requirement already satisfied: cycler>=0.10 in c:\\users\\akaur\\anaconda3\\lib\\site-packages (from matplotlib>=1.4.0->scikit-plot) (0.11.0)\n",
      "Requirement already satisfied: fonttools>=4.22.0 in c:\\users\\akaur\\anaconda3\\lib\\site-packages (from matplotlib>=1.4.0->scikit-plot) (4.25.0)\n",
      "Requirement already satisfied: kiwisolver>=1.0.1 in c:\\users\\akaur\\anaconda3\\lib\\site-packages (from matplotlib>=1.4.0->scikit-plot) (1.4.4)\n",
      "Requirement already satisfied: numpy>=1.20 in c:\\users\\akaur\\anaconda3\\lib\\site-packages (from matplotlib>=1.4.0->scikit-plot) (1.24.3)\n",
      "Requirement already satisfied: packaging>=20.0 in c:\\users\\akaur\\anaconda3\\lib\\site-packages (from matplotlib>=1.4.0->scikit-plot) (23.1)\n",
      "Requirement already satisfied: pillow>=6.2.0 in c:\\users\\akaur\\anaconda3\\lib\\site-packages (from matplotlib>=1.4.0->scikit-plot) (9.4.0)\n",
      "Requirement already satisfied: pyparsing<3.1,>=2.3.1 in c:\\users\\akaur\\anaconda3\\lib\\site-packages (from matplotlib>=1.4.0->scikit-plot) (3.0.9)\n",
      "Requirement already satisfied: python-dateutil>=2.7 in c:\\users\\akaur\\anaconda3\\lib\\site-packages (from matplotlib>=1.4.0->scikit-plot) (2.8.2)\n",
      "Requirement already satisfied: threadpoolctl>=2.0.0 in c:\\users\\akaur\\anaconda3\\lib\\site-packages (from scikit-learn>=0.18->scikit-plot) (2.2.0)\n",
      "Requirement already satisfied: six>=1.5 in c:\\users\\akaur\\anaconda3\\lib\\site-packages (from python-dateutil>=2.7->matplotlib>=1.4.0->scikit-plot) (1.16.0)\n"
     ]
    },
    {
     "name": "stderr",
     "output_type": "stream",
     "text": [
      "[nltk_data] Downloading package stopwords to\n",
      "[nltk_data]     C:\\Users\\akaur\\AppData\\Roaming\\nltk_data...\n",
      "[nltk_data]   Package stopwords is already up-to-date!\n",
      "[nltk_data] Downloading package punkt to\n",
      "[nltk_data]     C:\\Users\\akaur\\AppData\\Roaming\\nltk_data...\n",
      "[nltk_data]   Package punkt is already up-to-date!\n",
      "[nltk_data] Downloading package stopwords to\n",
      "[nltk_data]     C:\\Users\\akaur\\AppData\\Roaming\\nltk_data...\n",
      "[nltk_data]   Package stopwords is already up-to-date!\n"
     ]
    }
   ],
   "source": [
    "import pandas as pd\n",
    "import matplotlib.pyplot as plt\n",
    "import seaborn as sns \n",
    "import re\n",
    "import string\n",
    "import nltk\n",
    "nltk.download('stopwords')\n",
    "nltk.download('punkt')\n",
    "from transformers import AutoTokenizer\n",
    "!pip install scikit-plot\n",
    "from sklearn.metrics import accuracy_score,precision_score,recall_score,confusion_matrix,roc_curve,classification_report\n",
    "from scikitplot.metrics import plot_confusion_matrix\n",
    "from sklearn.feature_extraction.text import CountVectorizer\n",
    "from sklearn.model_selection import GridSearchCV\n",
    "from sklearn.ensemble import RandomForestClassifier\n",
    "\n",
    "import requests\n",
    "from transformers import AutoTokenizer\n",
    "\n",
    "import warnings\n",
    "\n",
    "# Filter out warnings from a specific module (e.g., FutureWarning from numpy)\n",
    "warnings.filterwarnings(\"ignore\", category=FutureWarning, module=\"numpy\")\n",
    "\n",
    "\n",
    "import nltk\n",
    "nltk.download('stopwords')\n",
    "nltk.download('punkt')\n",
    "\n",
    "import re\n",
    "import string\n",
    "\n",
    "from gensim.models import Word2Vec\n",
    "from nltk.tokenize import sent_tokenize as nltk_sent_tokenize\n",
    "from nltk.tokenize import word_tokenize as nltk_word_tokenize\n",
    "\n",
    "from sklearn.feature_extraction.text import CountVectorizer , TfidfTransformer\n",
    "import numpy as np\n",
    "from nltk.corpus import stopwords\n",
    "\n",
    "from scipy.spatial.distance import cosine\n",
    "\n",
    "\n",
    "from nltk.corpus import stopwords\n",
    "\n",
    "# Download the stopwords list if you haven't already\n",
    "import nltk\n",
    "nltk.download('stopwords')\n",
    "\n",
    "# Get the English stopwords list\n",
    "\n",
    "stop_words = set(stopwords.words('english'))\n"
   ]
  },
  {
   "cell_type": "code",
   "execution_count": null,
   "id": "4b0f765c",
   "metadata": {},
   "outputs": [],
   "source": []
  },
  {
   "cell_type": "code",
   "execution_count": null,
   "id": "5360ccb9",
   "metadata": {},
   "outputs": [],
   "source": []
  },
  {
   "cell_type": "markdown",
   "id": "fdbab652",
   "metadata": {},
   "source": [
    "# Data loading"
   ]
  },
  {
   "cell_type": "code",
   "execution_count": 3,
   "id": "cd11e8f2",
   "metadata": {
    "tags": []
   },
   "outputs": [],
   "source": [
    "df = pd.read_csv(r\"C:\\Users\\akaur\\Downloads\\train_product_data.csv\")"
   ]
  },
  {
   "cell_type": "code",
   "execution_count": 4,
   "id": "3da7dd7f",
   "metadata": {
    "tags": []
   },
   "outputs": [
    {
     "data": {
      "text/html": [
       "<div>\n",
       "<style scoped>\n",
       "    .dataframe tbody tr th:only-of-type {\n",
       "        vertical-align: middle;\n",
       "    }\n",
       "\n",
       "    .dataframe tbody tr th {\n",
       "        vertical-align: top;\n",
       "    }\n",
       "\n",
       "    .dataframe thead th {\n",
       "        text-align: right;\n",
       "    }\n",
       "</style>\n",
       "<table border=\"1\" class=\"dataframe\">\n",
       "  <thead>\n",
       "    <tr style=\"text-align: right;\">\n",
       "      <th></th>\n",
       "      <th>uniq_id</th>\n",
       "      <th>crawl_timestamp</th>\n",
       "      <th>product_url</th>\n",
       "      <th>product_name</th>\n",
       "      <th>product_category_tree</th>\n",
       "      <th>pid</th>\n",
       "      <th>retail_price</th>\n",
       "      <th>discounted_price</th>\n",
       "      <th>image</th>\n",
       "      <th>is_FK_Advantage_product</th>\n",
       "      <th>description</th>\n",
       "      <th>product_rating</th>\n",
       "      <th>overall_rating</th>\n",
       "      <th>brand</th>\n",
       "      <th>product_specifications</th>\n",
       "    </tr>\n",
       "  </thead>\n",
       "  <tbody>\n",
       "    <tr>\n",
       "      <th>0</th>\n",
       "      <td>c2d766ca982eca8304150849735ffef9</td>\n",
       "      <td>2016-03-25 22:59:23 +0000</td>\n",
       "      <td>http://www.flipkart.com/alisha-solid-women-s-c...</td>\n",
       "      <td>Alisha Solid Women's Cycling Shorts</td>\n",
       "      <td>Clothing</td>\n",
       "      <td>SRTEH2FF9KEDEFGF</td>\n",
       "      <td>999.0</td>\n",
       "      <td>379.0</td>\n",
       "      <td>[\"http://img5a.flixcart.com/image/short/u/4/a/...</td>\n",
       "      <td>False</td>\n",
       "      <td>Key Features of Alisha Solid Women's Cycling S...</td>\n",
       "      <td>No rating available</td>\n",
       "      <td>No rating available</td>\n",
       "      <td>Alisha</td>\n",
       "      <td>{\"product_specification\"=&gt;[{\"key\"=&gt;\"Number of ...</td>\n",
       "    </tr>\n",
       "    <tr>\n",
       "      <th>1</th>\n",
       "      <td>f449ec65dcbc041b6ae5e6a32717d01b</td>\n",
       "      <td>2016-03-25 22:59:23 +0000</td>\n",
       "      <td>http://www.flipkart.com/aw-bellies/p/itmeh4grg...</td>\n",
       "      <td>AW Bellies</td>\n",
       "      <td>Footwear</td>\n",
       "      <td>SHOEH4GRSUBJGZXE</td>\n",
       "      <td>999.0</td>\n",
       "      <td>499.0</td>\n",
       "      <td>[\"http://img5a.flixcart.com/image/shoe/7/z/z/r...</td>\n",
       "      <td>False</td>\n",
       "      <td>Key Features of AW Bellies Sandals Wedges Heel...</td>\n",
       "      <td>No rating available</td>\n",
       "      <td>No rating available</td>\n",
       "      <td>AW</td>\n",
       "      <td>{\"product_specification\"=&gt;[{\"key\"=&gt;\"Ideal For\"...</td>\n",
       "    </tr>\n",
       "    <tr>\n",
       "      <th>2</th>\n",
       "      <td>0973b37acd0c664e3de26e97e5571454</td>\n",
       "      <td>2016-03-25 22:59:23 +0000</td>\n",
       "      <td>http://www.flipkart.com/alisha-solid-women-s-c...</td>\n",
       "      <td>Alisha Solid Women's Cycling Shorts</td>\n",
       "      <td>Clothing</td>\n",
       "      <td>SRTEH2F6HUZMQ6SJ</td>\n",
       "      <td>699.0</td>\n",
       "      <td>267.0</td>\n",
       "      <td>[\"http://img5a.flixcart.com/image/short/6/2/h/...</td>\n",
       "      <td>False</td>\n",
       "      <td>Key Features of Alisha Solid Women's Cycling S...</td>\n",
       "      <td>No rating available</td>\n",
       "      <td>No rating available</td>\n",
       "      <td>Alisha</td>\n",
       "      <td>{\"product_specification\"=&gt;[{\"key\"=&gt;\"Number of ...</td>\n",
       "    </tr>\n",
       "    <tr>\n",
       "      <th>3</th>\n",
       "      <td>ce5a6818f7707e2cb61fdcdbba61f5ad</td>\n",
       "      <td>2016-03-25 22:59:23 +0000</td>\n",
       "      <td>http://www.flipkart.com/alisha-solid-women-s-c...</td>\n",
       "      <td>Alisha Solid Women's Cycling Shorts</td>\n",
       "      <td>Clothing</td>\n",
       "      <td>SRTEH2FVVKRBAXHB</td>\n",
       "      <td>1199.0</td>\n",
       "      <td>479.0</td>\n",
       "      <td>[\"http://img6a.flixcart.com/image/short/p/j/z/...</td>\n",
       "      <td>False</td>\n",
       "      <td>Key Features of Alisha Solid Women's Cycling S...</td>\n",
       "      <td>No rating available</td>\n",
       "      <td>No rating available</td>\n",
       "      <td>Alisha</td>\n",
       "      <td>{\"product_specification\"=&gt;[{\"key\"=&gt;\"Number of ...</td>\n",
       "    </tr>\n",
       "    <tr>\n",
       "      <th>4</th>\n",
       "      <td>29c8d290caa451f97b1c32df64477a2c</td>\n",
       "      <td>2016-03-25 22:59:23 +0000</td>\n",
       "      <td>http://www.flipkart.com/dilli-bazaaar-bellies-...</td>\n",
       "      <td>dilli bazaaar Bellies, Corporate Casuals, Casuals</td>\n",
       "      <td>Footwear</td>\n",
       "      <td>SHOEH3DZBFR88SCK</td>\n",
       "      <td>699.0</td>\n",
       "      <td>349.0</td>\n",
       "      <td>[\"http://img6a.flixcart.com/image/shoe/b/p/n/p...</td>\n",
       "      <td>False</td>\n",
       "      <td>Key Features of dilli bazaaar Bellies, Corpora...</td>\n",
       "      <td>No rating available</td>\n",
       "      <td>No rating available</td>\n",
       "      <td>dilli bazaaar</td>\n",
       "      <td>{\"product_specification\"=&gt;[{\"key\"=&gt;\"Occasion\",...</td>\n",
       "    </tr>\n",
       "  </tbody>\n",
       "</table>\n",
       "</div>"
      ],
      "text/plain": [
       "                            uniq_id            crawl_timestamp  \\\n",
       "0  c2d766ca982eca8304150849735ffef9  2016-03-25 22:59:23 +0000   \n",
       "1  f449ec65dcbc041b6ae5e6a32717d01b  2016-03-25 22:59:23 +0000   \n",
       "2  0973b37acd0c664e3de26e97e5571454  2016-03-25 22:59:23 +0000   \n",
       "3  ce5a6818f7707e2cb61fdcdbba61f5ad  2016-03-25 22:59:23 +0000   \n",
       "4  29c8d290caa451f97b1c32df64477a2c  2016-03-25 22:59:23 +0000   \n",
       "\n",
       "                                         product_url  \\\n",
       "0  http://www.flipkart.com/alisha-solid-women-s-c...   \n",
       "1  http://www.flipkart.com/aw-bellies/p/itmeh4grg...   \n",
       "2  http://www.flipkart.com/alisha-solid-women-s-c...   \n",
       "3  http://www.flipkart.com/alisha-solid-women-s-c...   \n",
       "4  http://www.flipkart.com/dilli-bazaaar-bellies-...   \n",
       "\n",
       "                                        product_name product_category_tree  \\\n",
       "0                Alisha Solid Women's Cycling Shorts             Clothing    \n",
       "1                                         AW Bellies             Footwear    \n",
       "2                Alisha Solid Women's Cycling Shorts             Clothing    \n",
       "3                Alisha Solid Women's Cycling Shorts             Clothing    \n",
       "4  dilli bazaaar Bellies, Corporate Casuals, Casuals             Footwear    \n",
       "\n",
       "                pid  retail_price  discounted_price  \\\n",
       "0  SRTEH2FF9KEDEFGF         999.0             379.0   \n",
       "1  SHOEH4GRSUBJGZXE         999.0             499.0   \n",
       "2  SRTEH2F6HUZMQ6SJ         699.0             267.0   \n",
       "3  SRTEH2FVVKRBAXHB        1199.0             479.0   \n",
       "4  SHOEH3DZBFR88SCK         699.0             349.0   \n",
       "\n",
       "                                               image  is_FK_Advantage_product  \\\n",
       "0  [\"http://img5a.flixcart.com/image/short/u/4/a/...                    False   \n",
       "1  [\"http://img5a.flixcart.com/image/shoe/7/z/z/r...                    False   \n",
       "2  [\"http://img5a.flixcart.com/image/short/6/2/h/...                    False   \n",
       "3  [\"http://img6a.flixcart.com/image/short/p/j/z/...                    False   \n",
       "4  [\"http://img6a.flixcart.com/image/shoe/b/p/n/p...                    False   \n",
       "\n",
       "                                         description       product_rating  \\\n",
       "0  Key Features of Alisha Solid Women's Cycling S...  No rating available   \n",
       "1  Key Features of AW Bellies Sandals Wedges Heel...  No rating available   \n",
       "2  Key Features of Alisha Solid Women's Cycling S...  No rating available   \n",
       "3  Key Features of Alisha Solid Women's Cycling S...  No rating available   \n",
       "4  Key Features of dilli bazaaar Bellies, Corpora...  No rating available   \n",
       "\n",
       "        overall_rating          brand  \\\n",
       "0  No rating available         Alisha   \n",
       "1  No rating available             AW   \n",
       "2  No rating available         Alisha   \n",
       "3  No rating available         Alisha   \n",
       "4  No rating available  dilli bazaaar   \n",
       "\n",
       "                              product_specifications  \n",
       "0  {\"product_specification\"=>[{\"key\"=>\"Number of ...  \n",
       "1  {\"product_specification\"=>[{\"key\"=>\"Ideal For\"...  \n",
       "2  {\"product_specification\"=>[{\"key\"=>\"Number of ...  \n",
       "3  {\"product_specification\"=>[{\"key\"=>\"Number of ...  \n",
       "4  {\"product_specification\"=>[{\"key\"=>\"Occasion\",...  "
      ]
     },
     "execution_count": 4,
     "metadata": {},
     "output_type": "execute_result"
    }
   ],
   "source": [
    "df.head(5)"
   ]
  },
  {
   "cell_type": "markdown",
   "id": "501f376e",
   "metadata": {},
   "source": [
    "## DATASET DESCRIPTION "
   ]
  },
  {
   "cell_type": "markdown",
   "id": "b2e02704",
   "metadata": {},
   "source": [
    " ### 1. uniq_id: \n",
    "   - Description: A unique identifier for each product.\n",
    "   - Purpose: Acts as the primary key to distinguish each product record uniquely.\n",
    "\n",
    " ### 2. crawl_timestamp: \n",
    "   - Description: The timestamp when the product data was last scraped or collected.\n",
    "   - Purpose: Helps identify the data's recency and track changes over time.\n",
    "\n",
    " ### 3. product_url: \n",
    "   - Description: The URL linking directly to the product's page on the eCommerce platform.\n",
    "   - Purpose: Allows direct access to the product's information and purchasing page.\n",
    "\n",
    " ### 4. product_name: \n",
    "   - Description: The name or title of the product as displayed on the eCommerce platform.\n",
    "   - Purpose: Provides a searchable and readable identification of the product.\n",
    "\n",
    " ### 5. product_category_tree: \n",
    "   - Description: The hierarchical structure representing the product's category on the platform.\n",
    "   - Purpose: Useful for categorization, analysis, and filtering of products.\n",
    "\n",
    " ### 6. pid: \n",
    "   - Description: A unique identifier specific to the eCommerce platform for each product.\n",
    "   - Purpose: Used to reference products internally on the platform.\n",
    "\n",
    " ### 7. retail_price: \n",
    "   - Description: The original or retail price of the product before any discounts.\n",
    "   - Purpose: Helps understand the product's standard market value.\n",
    "\n",
    " ### 8. discounted_price: \n",
    "   - Description: The price of the product after applying any discounts or offers.\n",
    "   - Purpose: Reflects the final price a customer would pay.\n",
    "\n",
    " ### 9. image: \n",
    "   - Description: URL linking to the main image of the product.\n",
    "   - Purpose: Provides visual representation for the product.\n",
    "\n",
    " ### 10. is_FK_Advantage_product: \n",
    "   - Description: A boolean indicator (True/False) showing if the product is part of Advantage program.\n",
    "   - Purpose: Denotes if the product has additional benefits like faster delivery or special quality checks.\n",
    "\n",
    " ### 11. description: \n",
    "   - Description: Detailed information about the product, including features, specifications, and usage.\n",
    "   - Purpose: Helps customers understand the product's value proposition and unique selling points.\n",
    "\n",
    " ### 12. product_rating: \n",
    "   - Description: The product's overall rating on the platform, based on customer reviews.\n",
    "   - Purpose: Indicates customer satisfaction and product quality.\n",
    "\n",
    " ### 13. overall_rating: \n",
    "   - Description: The aggregate rating of the product across different platforms or periods.\n",
    "   - Purpose: Offers a comprehensive view of the product's reception.\n",
    "\n",
    " ### 14. brand: \n",
    "   - Description: The name of the brand or manufacturer of the product.\n",
    "   - Purpose: Assists in brand-based analysis and filtering.\n",
    "\n",
    " ### 15. product_specifications: \n",
    "   - Description: Detailed specifications of the product, often in JSON or structured format.\n",
    "   - Purpose: Provides technical and functional details to aid customer decision-making.\n"
   ]
  },
  {
   "cell_type": "markdown",
   "id": "2e7a2250",
   "metadata": {},
   "source": [
    "# DATA OVERVIEW"
   ]
  },
  {
   "cell_type": "markdown",
   "id": "0d68ece7",
   "metadata": {},
   "source": [
    "Using the `head()` method to see the first five rows of the columns."
   ]
  },
  {
   "cell_type": "code",
   "execution_count": null,
   "id": "b0720d9d",
   "metadata": {
    "tags": []
   },
   "outputs": [],
   "source": [
    "df.head()"
   ]
  },
  {
   "cell_type": "markdown",
   "id": "58aa6fa9",
   "metadata": {},
   "source": [
    "Finding the shape of the dataset.\n",
    "It gives the number of rows and number of columns in the dataset."
   ]
  },
  {
   "cell_type": "code",
   "execution_count": 6,
   "id": "1af67239",
   "metadata": {
    "tags": []
   },
   "outputs": [
    {
     "data": {
      "text/plain": [
       "(14999, 15)"
      ]
     },
     "execution_count": 6,
     "metadata": {},
     "output_type": "execute_result"
    }
   ],
   "source": [
    "df.shape"
   ]
  },
  {
   "cell_type": "markdown",
   "id": "f0b8fbf2",
   "metadata": {},
   "source": [
    "* Here we are going to take look at the names of the columns.<br>\n",
    "\n",
    "* We can use the `columns()` method to see the list that contains names of the columns.<br>"
   ]
  },
  {
   "cell_type": "code",
   "execution_count": null,
   "id": "b6a09af4",
   "metadata": {
    "tags": []
   },
   "outputs": [],
   "source": [
    "df.columns"
   ]
  },
  {
   "cell_type": "markdown",
   "id": "3bb9c88c",
   "metadata": {},
   "source": [
    "Let's take small look at the datatype of the values of each colum.<br>\n",
    "\n",
    "We can do it by using the `info()` method of the dataframe."
   ]
  },
  {
   "cell_type": "code",
   "execution_count": 8,
   "id": "0b6b28fb",
   "metadata": {
    "tags": []
   },
   "outputs": [
    {
     "name": "stdout",
     "output_type": "stream",
     "text": [
      "<class 'pandas.core.frame.DataFrame'>\n",
      "RangeIndex: 14999 entries, 0 to 14998\n",
      "Data columns (total 15 columns):\n",
      " #   Column                   Non-Null Count  Dtype  \n",
      "---  ------                   --------------  -----  \n",
      " 0   uniq_id                  14999 non-null  object \n",
      " 1   crawl_timestamp          14999 non-null  object \n",
      " 2   product_url              14999 non-null  object \n",
      " 3   product_name             14999 non-null  object \n",
      " 4   product_category_tree    14999 non-null  object \n",
      " 5   pid                      14999 non-null  object \n",
      " 6   retail_price             14942 non-null  float64\n",
      " 7   discounted_price         14942 non-null  float64\n",
      " 8   image                    14996 non-null  object \n",
      " 9   is_FK_Advantage_product  14999 non-null  bool   \n",
      " 10  description              14998 non-null  object \n",
      " 11  product_rating           14999 non-null  object \n",
      " 12  overall_rating           14999 non-null  object \n",
      " 13  brand                    10289 non-null  object \n",
      " 14  product_specifications   14993 non-null  object \n",
      "dtypes: bool(1), float64(2), object(12)\n",
      "memory usage: 1.6+ MB\n"
     ]
    }
   ],
   "source": [
    "df.info()"
   ]
  },
  {
   "cell_type": "markdown",
   "id": "d5caefda",
   "metadata": {},
   "source": [
    "As you can see, there are two columns with float values, one column with bool values, and twelve more columns with object type values."
   ]
  },
  {
   "cell_type": "markdown",
   "id": "2b388833",
   "metadata": {},
   "source": [
    "## Performoimg Exploratory Data Analysis"
   ]
  },
  {
   "cell_type": "markdown",
   "id": "7dd84d1c",
   "metadata": {},
   "source": [
    "### <a id='toc1_4_1'></a>[Find and handle the null values which are present in the dataset.](#toc0_)\n",
    "\n",
    "You can check for the null values by method called as `isna()`.\n",
    "\n",
    "</a>.\n",
    "\n"
   ]
  },
  {
   "cell_type": "code",
   "execution_count": 9,
   "id": "4823a9e0",
   "metadata": {
    "tags": []
   },
   "outputs": [
    {
     "data": {
      "text/plain": [
       "uniq_id                       0\n",
       "crawl_timestamp               0\n",
       "product_url                   0\n",
       "product_name                  0\n",
       "product_category_tree         0\n",
       "pid                           0\n",
       "retail_price                 57\n",
       "discounted_price             57\n",
       "image                         3\n",
       "is_FK_Advantage_product       0\n",
       "description                   1\n",
       "product_rating                0\n",
       "overall_rating                0\n",
       "brand                      4710\n",
       "product_specifications        6\n",
       "dtype: int64"
      ]
     },
     "execution_count": 9,
     "metadata": {},
     "output_type": "execute_result"
    }
   ],
   "source": [
    "df.isna().sum()"
   ]
  },
  {
   "cell_type": "markdown",
   "id": "3d043ae3",
   "metadata": {},
   "source": [
    "We're going to remove the rows that have null values."
   ]
  },
  {
   "cell_type": "markdown",
   "id": "cd31f9be",
   "metadata": {},
   "source": [
    "### <a id='toc1_4_2_'></a>[Handling the Null values.](#toc0_)\n",
    "* You can drop the rows by using the `dropna()` method of the padas dataframe.<br>\n",
    "* Please make sure that you set the parameters of the method correctly. We have to delete only the rows, not whole columns, and a new updated dataset must replace the old one.<br>\n",
    "\n"
   ]
  },
  {
   "cell_type": "code",
   "execution_count": 11,
   "id": "b854cb07",
   "metadata": {
    "tags": []
   },
   "outputs": [],
   "source": [
    "df.dropna(inplace=True,axis=0) #droppinng the duplicated values."
   ]
  },
  {
   "cell_type": "code",
   "execution_count": 12,
   "id": "efe222e7",
   "metadata": {
    "tags": []
   },
   "outputs": [
    {
     "data": {
      "text/plain": [
       "(10237, 15)"
      ]
     },
     "execution_count": 12,
     "metadata": {},
     "output_type": "execute_result"
    }
   ],
   "source": [
    "df.shape"
   ]
  },
  {
   "cell_type": "code",
   "execution_count": 13,
   "id": "3a79a8e4",
   "metadata": {
    "tags": []
   },
   "outputs": [
    {
     "data": {
      "text/plain": [
       "0"
      ]
     },
     "execution_count": 13,
     "metadata": {},
     "output_type": "execute_result"
    }
   ],
   "source": [
    "df.duplicated().sum()"
   ]
  },
  {
   "cell_type": "markdown",
   "id": "1441efc9",
   "metadata": {},
   "source": [
    "The dataset contains no duplicate rows, as shown here. "
   ]
  },
  {
   "cell_type": "markdown",
   "id": "5940bdee",
   "metadata": {},
   "source": [
    "### <a id='toc1_4_4_'></a>[Count the numbers of  Unique values in each column in given dataset.](#toc0_)\n",
    "#### Get the number of unique values for each column\n",
    "* Here we are checking the null values for each columns. <br>\n",
    "* Here we are using `nunique()` method to get the numbers od unique values in columns <br>\n",
    "\n",
    "\n"
   ]
  },
  {
   "cell_type": "code",
   "execution_count": 14,
   "id": "d27d1d6e",
   "metadata": {
    "tags": []
   },
   "outputs": [
    {
     "name": "stdout",
     "output_type": "stream",
     "text": [
      "uniq_id 10237\n",
      "crawl_timestamp 237\n",
      "product_url 10237\n",
      "product_name 6464\n",
      "product_category_tree 14\n",
      "pid 10235\n",
      "retail_price 1674\n",
      "discounted_price 1804\n",
      "image 9153\n",
      "is_FK_Advantage_product 2\n",
      "description 8959\n",
      "product_rating 34\n",
      "overall_rating 34\n",
      "brand 2299\n",
      "product_specifications 9885\n"
     ]
    }
   ],
   "source": [
    "for i in df.columns:\n",
    "    print(i,df[i].nunique())"
   ]
  },
  {
   "cell_type": "code",
   "execution_count": 15,
   "id": "2ff646d3",
   "metadata": {
    "tags": []
   },
   "outputs": [
    {
     "data": {
      "text/plain": [
       "array([\"Alisha Solid Women's Cycling Shorts\", 'AW Bellies',\n",
       "       'dilli bazaaar Bellies, Corporate Casuals, Casuals', ...,\n",
       "       'BGS Alloy Charm Bracelet', 'Babes Brass Cuff',\n",
       "       'Kenway Retail Brass Copper Cuff'], dtype=object)"
      ]
     },
     "execution_count": 15,
     "metadata": {},
     "output_type": "execute_result"
    }
   ],
   "source": [
    "df['product_name'].unique()"
   ]
  },
  {
   "cell_type": "code",
   "execution_count": 16,
   "id": "ff098a80",
   "metadata": {
    "tags": []
   },
   "outputs": [
    {
     "data": {
      "text/plain": [
       "array(['No rating available', '5', '3.6', '3', '4', '2.4', '3.3', '1',\n",
       "       '3.8', '3.2', '3.5', '3.7', '2.3', '2', '3.9', '2.5', '2.7', '4.5',\n",
       "       '4.7', '4.1', '4.4', '4.3', '3.4', '4.6', '4.2', '1.5', '2.8',\n",
       "       '2.9', '4.9', '4.8', '2.2', '1.3', '1.8', '3.1'], dtype=object)"
      ]
     },
     "execution_count": 16,
     "metadata": {},
     "output_type": "execute_result"
    }
   ],
   "source": [
    "df['product_rating'].unique()"
   ]
  },
  {
   "cell_type": "code",
   "execution_count": 17,
   "id": "4bda18f3",
   "metadata": {
    "tags": []
   },
   "outputs": [
    {
     "data": {
      "text/plain": [
       "array(['No rating available', '5', '3.6', '3', '4', '2.4', '3.3', '1',\n",
       "       '3.8', '3.2', '3.5', '3.7', '2.3', '2', '3.9', '2.5', '2.7', '4.5',\n",
       "       '4.7', '4.1', '4.4', '4.3', '3.4', '4.6', '4.2', '1.5', '2.8',\n",
       "       '2.9', '4.9', '4.8', '2.2', '1.3', '1.8', '3.1'], dtype=object)"
      ]
     },
     "execution_count": 17,
     "metadata": {},
     "output_type": "execute_result"
    }
   ],
   "source": [
    "df['overall_rating'].unique()"
   ]
  },
  {
   "cell_type": "code",
   "execution_count": 18,
   "id": "0d6e8d7b",
   "metadata": {
    "tags": []
   },
   "outputs": [
    {
     "data": {
      "text/plain": [
       "array(['Clothing ', 'Footwear ', 'Pens & Stationery ',\n",
       "       'Bags, Wallets & Belts ', 'Home Decor & Festive Needs ',\n",
       "       'Automotive ', 'Tools & Hardware ', 'Baby Care ',\n",
       "       'Mobiles & Accessories ', 'Toys & School Supplies ', 'Jewellery ',\n",
       "       'Kitchen & Dining ', 'Computers ', 'Watches '], dtype=object)"
      ]
     },
     "execution_count": 18,
     "metadata": {},
     "output_type": "execute_result"
    }
   ],
   "source": [
    "df['product_category_tree'].unique()"
   ]
  },
  {
   "cell_type": "code",
   "execution_count": 21,
   "id": "87d78ce4",
   "metadata": {
    "tags": []
   },
   "outputs": [
    {
     "data": {
      "text/plain": [
       "product_name\n",
       "S4S Stylish Women's Push-up Bra                                94\n",
       "Voylla Metal, Alloy Necklace                                   66\n",
       "DailyObjects Back Cover for Apple iPad 2/3/4                   52\n",
       "S4S Comfortable Women's Full Coverage Bra                      45\n",
       "Grafion by Grafion - Comfort Feel Women's Full Coverage Bra    44\n",
       "                                                               ..\n",
       "Beebay Baby Boy's Solid Casual Shirt                            1\n",
       "Maveric Pleasing Single Breasted Solid Men's Suit               1\n",
       "FAB-FLASH Fire Retrardant PVC 2.5 sq/mm Yellow 91 m Wire        1\n",
       "Hangrr Premium Single Breasted Solid Men's Suit                 1\n",
       "ETTI ESJ4 Glass Necklace                                        1\n",
       "Name: count, Length: 6464, dtype: int64"
      ]
     },
     "execution_count": 21,
     "metadata": {},
     "output_type": "execute_result"
    }
   ],
   "source": [
    "df['product_name'].value_counts()"
   ]
  },
  {
   "cell_type": "code",
   "execution_count": 22,
   "id": "a24884ef",
   "metadata": {
    "tags": []
   },
   "outputs": [
    {
     "data": {
      "text/plain": [
       "product_category_tree\n",
       "Jewellery                      3209\n",
       "Clothing                       2689\n",
       "Automotive                      935\n",
       "Mobiles & Accessories           765\n",
       "Home Decor & Festive Needs      646\n",
       "Computers                       525\n",
       "Tools & Hardware                375\n",
       "Kitchen & Dining                326\n",
       "Footwear                        268\n",
       "Baby Care                       197\n",
       "Pens & Stationery               126\n",
       "Bags, Wallets & Belts            81\n",
       "Toys & School Supplies           51\n",
       "Watches                          44\n",
       "Name: count, dtype: int64"
      ]
     },
     "execution_count": 22,
     "metadata": {},
     "output_type": "execute_result"
    }
   ],
   "source": [
    "df['product_category_tree'].value_counts()"
   ]
  },
  {
   "cell_type": "code",
   "execution_count": 23,
   "id": "4be30132",
   "metadata": {
    "tags": []
   },
   "outputs": [
    {
     "data": {
      "text/plain": [
       "product_rating\n",
       "No rating available    9476\n",
       "5                       277\n",
       "4                        96\n",
       "1                        76\n",
       "3                        57\n",
       "4.2                      28\n",
       "2                        25\n",
       "3.7                      21\n",
       "4.5                      21\n",
       "4.3                      17\n",
       "3.5                      14\n",
       "2.5                      12\n",
       "4.1                      11\n",
       "4.8                      11\n",
       "3.6                      11\n",
       "3.8                       9\n",
       "2.3                       9\n",
       "3.2                       8\n",
       "3.9                       8\n",
       "3.3                       7\n",
       "4.7                       6\n",
       "4.4                       6\n",
       "3.4                       6\n",
       "4.6                       4\n",
       "2.4                       3\n",
       "2.7                       3\n",
       "2.8                       3\n",
       "2.9                       3\n",
       "4.9                       2\n",
       "2.2                       2\n",
       "3.1                       2\n",
       "1.5                       1\n",
       "1.3                       1\n",
       "1.8                       1\n",
       "Name: count, dtype: int64"
      ]
     },
     "execution_count": 23,
     "metadata": {},
     "output_type": "execute_result"
    }
   ],
   "source": [
    "df['product_rating'].value_counts()"
   ]
  },
  {
   "cell_type": "code",
   "execution_count": 24,
   "id": "47eeab6b",
   "metadata": {
    "tags": []
   },
   "outputs": [
    {
     "data": {
      "text/plain": [
       "brand\n",
       "Allure Auto       468\n",
       "Regular           307\n",
       "Slim              284\n",
       "Voylla            273\n",
       "Karatcraft        211\n",
       "                 ... \n",
       "Chinhhari Arts      1\n",
       "LAMS                1\n",
       "Samriddhivastu      1\n",
       "Elephant            1\n",
       "Babes               1\n",
       "Name: count, Length: 2299, dtype: int64"
      ]
     },
     "execution_count": 24,
     "metadata": {},
     "output_type": "execute_result"
    }
   ],
   "source": [
    "df['brand'].value_counts()"
   ]
  },
  {
   "cell_type": "code",
   "execution_count": 26,
   "id": "f19b66b9",
   "metadata": {
    "tags": []
   },
   "outputs": [
    {
     "data": {
      "text/plain": [
       "product_name\n",
       "S4S Stylish Women's Push-up Bra                                94\n",
       "Voylla Metal, Alloy Necklace                                   66\n",
       "DailyObjects Back Cover for Apple iPad 2/3/4                   52\n",
       "S4S Comfortable Women's Full Coverage Bra                      45\n",
       "Grafion by Grafion - Comfort Feel Women's Full Coverage Bra    44\n",
       "                                                               ..\n",
       "Beebay Baby Boy's Solid Casual Shirt                            1\n",
       "Maveric Pleasing Single Breasted Solid Men's Suit               1\n",
       "FAB-FLASH Fire Retrardant PVC 2.5 sq/mm Yellow 91 m Wire        1\n",
       "Hangrr Premium Single Breasted Solid Men's Suit                 1\n",
       "ETTI ESJ4 Glass Necklace                                        1\n",
       "Name: count, Length: 6464, dtype: int64"
      ]
     },
     "execution_count": 26,
     "metadata": {},
     "output_type": "execute_result"
    }
   ],
   "source": [
    "df['product_name'].value_counts()"
   ]
  },
  {
   "cell_type": "code",
   "execution_count": 27,
   "id": "3a2cb6b1",
   "metadata": {
    "tags": []
   },
   "outputs": [
    {
     "data": {
      "image/png": "[encoded data removed]",
      "text/plain": [
       "<Figure size 640x480 with 1 Axes>"
      ]
     },
     "metadata": {},
     "output_type": "display_data"
    }
   ],
   "source": [
    "df.product_category_tree.value_counts().plot(kind='bar', title='Products category')\n",
    "plt.show()"
   ]
  },
  {
   "cell_type": "code",
   "execution_count": 28,
   "id": "6e3848a9",
   "metadata": {
    "tags": []
   },
   "outputs": [
    {
     "data": {
      "image/png": "[encoded data removed]",
      "text/plain": [
       "<Figure size 640x480 with 1 Axes>"
      ]
     },
     "metadata": {},
     "output_type": "display_data"
    }
   ],
   "source": [
    "df.brand.value_counts().plot(kind='bar', title='Products category')\n",
    "plt.show()"
   ]
  },
  {
   "cell_type": "code",
   "execution_count": 29,
   "id": "ec757f9c",
   "metadata": {
    "tags": []
   },
   "outputs": [
    {
     "data": {
      "image/png": "[encoded data removed]",
      "text/plain": [
       "<Figure size 640x480 with 1 Axes>"
      ]
     },
     "metadata": {},
     "output_type": "display_data"
    }
   ],
   "source": [
    "df.product_rating.value_counts().plot(kind='bar', title='Products category')\n",
    "plt.show()"
   ]
  },
  {
   "cell_type": "code",
   "execution_count": 30,
   "id": "72b35c7c",
   "metadata": {
    "tags": []
   },
   "outputs": [
    {
     "data": {
      "text/html": [
       "<div>\n",
       "<style scoped>\n",
       "    .dataframe tbody tr th:only-of-type {\n",
       "        vertical-align: middle;\n",
       "    }\n",
       "\n",
       "    .dataframe tbody tr th {\n",
       "        vertical-align: top;\n",
       "    }\n",
       "\n",
       "    .dataframe thead th {\n",
       "        text-align: right;\n",
       "    }\n",
       "</style>\n",
       "<table border=\"1\" class=\"dataframe\">\n",
       "  <thead>\n",
       "    <tr style=\"text-align: right;\">\n",
       "      <th></th>\n",
       "      <th>count</th>\n",
       "      <th>mean</th>\n",
       "      <th>std</th>\n",
       "      <th>min</th>\n",
       "      <th>25%</th>\n",
       "      <th>50%</th>\n",
       "      <th>75%</th>\n",
       "      <th>max</th>\n",
       "    </tr>\n",
       "  </thead>\n",
       "  <tbody>\n",
       "    <tr>\n",
       "      <th>retail_price</th>\n",
       "      <td>10237.0</td>\n",
       "      <td>3908.512162</td>\n",
       "      <td>9095.250738</td>\n",
       "      <td>35.0</td>\n",
       "      <td>699.0</td>\n",
       "      <td>1095.0</td>\n",
       "      <td>2199.0</td>\n",
       "      <td>116292.0</td>\n",
       "    </tr>\n",
       "    <tr>\n",
       "      <th>discounted_price</th>\n",
       "      <td>10237.0</td>\n",
       "      <td>2616.727948</td>\n",
       "      <td>6973.566308</td>\n",
       "      <td>35.0</td>\n",
       "      <td>346.0</td>\n",
       "      <td>499.0</td>\n",
       "      <td>1275.0</td>\n",
       "      <td>116292.0</td>\n",
       "    </tr>\n",
       "  </tbody>\n",
       "</table>\n",
       "</div>"
      ],
      "text/plain": [
       "                    count         mean          std   min    25%     50%  \\\n",
       "retail_price      10237.0  3908.512162  9095.250738  35.0  699.0  1095.0   \n",
       "discounted_price  10237.0  2616.727948  6973.566308  35.0  346.0   499.0   \n",
       "\n",
       "                     75%       max  \n",
       "retail_price      2199.0  116292.0  \n",
       "discounted_price  1275.0  116292.0  "
      ]
     },
     "execution_count": 30,
     "metadata": {},
     "output_type": "execute_result"
    }
   ],
   "source": [
    "df.describe().T"
   ]
  },
  {
   "cell_type": "markdown",
   "id": "085ceab1-6a0c-4455-8d73-4ce402f9bb87",
   "metadata": {},
   "source": [
    "##### Here mean  retail_price is Rs 3900 with Standard Deviation of 9095 and mean  discounted_price is Rs 2600 with Standard Deviation of 6970"
   ]
  },
  {
   "cell_type": "code",
   "execution_count": 31,
   "id": "a3566384",
   "metadata": {
    "tags": []
   },
   "outputs": [
    {
     "data": {
      "text/html": [
       "<div>\n",
       "<style scoped>\n",
       "    .dataframe tbody tr th:only-of-type {\n",
       "        vertical-align: middle;\n",
       "    }\n",
       "\n",
       "    .dataframe tbody tr th {\n",
       "        vertical-align: top;\n",
       "    }\n",
       "\n",
       "    .dataframe thead th {\n",
       "        text-align: right;\n",
       "    }\n",
       "</style>\n",
       "<table border=\"1\" class=\"dataframe\">\n",
       "  <thead>\n",
       "    <tr style=\"text-align: right;\">\n",
       "      <th></th>\n",
       "      <th>uniq_id</th>\n",
       "      <th>crawl_timestamp</th>\n",
       "      <th>product_url</th>\n",
       "      <th>product_name</th>\n",
       "      <th>product_category_tree</th>\n",
       "      <th>pid</th>\n",
       "      <th>image</th>\n",
       "      <th>description</th>\n",
       "      <th>product_rating</th>\n",
       "      <th>overall_rating</th>\n",
       "      <th>brand</th>\n",
       "      <th>product_specifications</th>\n",
       "    </tr>\n",
       "  </thead>\n",
       "  <tbody>\n",
       "    <tr>\n",
       "      <th>count</th>\n",
       "      <td>10237</td>\n",
       "      <td>10237</td>\n",
       "      <td>10237</td>\n",
       "      <td>10237</td>\n",
       "      <td>10237</td>\n",
       "      <td>10237</td>\n",
       "      <td>10237</td>\n",
       "      <td>10237</td>\n",
       "      <td>10237</td>\n",
       "      <td>10237</td>\n",
       "      <td>10237</td>\n",
       "      <td>10237</td>\n",
       "    </tr>\n",
       "    <tr>\n",
       "      <th>unique</th>\n",
       "      <td>10237</td>\n",
       "      <td>237</td>\n",
       "      <td>10237</td>\n",
       "      <td>6464</td>\n",
       "      <td>14</td>\n",
       "      <td>10235</td>\n",
       "      <td>9153</td>\n",
       "      <td>8959</td>\n",
       "      <td>34</td>\n",
       "      <td>34</td>\n",
       "      <td>2299</td>\n",
       "      <td>9885</td>\n",
       "    </tr>\n",
       "    <tr>\n",
       "      <th>top</th>\n",
       "      <td>c2d766ca982eca8304150849735ffef9</td>\n",
       "      <td>2015-12-01 12:40:44 +0000</td>\n",
       "      <td>http://www.flipkart.com/alisha-solid-women-s-c...</td>\n",
       "      <td>S4S Stylish Women's Push-up Bra</td>\n",
       "      <td>Jewellery</td>\n",
       "      <td>JEAEGE8Q8GXYFTGU</td>\n",
       "      <td>[\"http://img6a.flixcart.com/image/car-mat/m/t/...</td>\n",
       "      <td>Fashion Jewellery Alloy Necklace - Buy Fashion...</td>\n",
       "      <td>No rating available</td>\n",
       "      <td>No rating available</td>\n",
       "      <td>Allure Auto</td>\n",
       "      <td>{\"product_specification\"=&gt;nil}</td>\n",
       "    </tr>\n",
       "    <tr>\n",
       "      <th>freq</th>\n",
       "      <td>1</td>\n",
       "      <td>1508</td>\n",
       "      <td>1</td>\n",
       "      <td>94</td>\n",
       "      <td>3209</td>\n",
       "      <td>2</td>\n",
       "      <td>45</td>\n",
       "      <td>38</td>\n",
       "      <td>9476</td>\n",
       "      <td>9476</td>\n",
       "      <td>468</td>\n",
       "      <td>39</td>\n",
       "    </tr>\n",
       "  </tbody>\n",
       "</table>\n",
       "</div>"
      ],
      "text/plain": [
       "                                 uniq_id            crawl_timestamp  \\\n",
       "count                              10237                      10237   \n",
       "unique                             10237                        237   \n",
       "top     c2d766ca982eca8304150849735ffef9  2015-12-01 12:40:44 +0000   \n",
       "freq                                   1                       1508   \n",
       "\n",
       "                                              product_url  \\\n",
       "count                                               10237   \n",
       "unique                                              10237   \n",
       "top     http://www.flipkart.com/alisha-solid-women-s-c...   \n",
       "freq                                                    1   \n",
       "\n",
       "                           product_name product_category_tree  \\\n",
       "count                             10237                 10237   \n",
       "unique                             6464                    14   \n",
       "top     S4S Stylish Women's Push-up Bra            Jewellery    \n",
       "freq                                 94                  3209   \n",
       "\n",
       "                     pid                                              image  \\\n",
       "count              10237                                              10237   \n",
       "unique             10235                                               9153   \n",
       "top     JEAEGE8Q8GXYFTGU  [\"http://img6a.flixcart.com/image/car-mat/m/t/...   \n",
       "freq                   2                                                 45   \n",
       "\n",
       "                                              description  \\\n",
       "count                                               10237   \n",
       "unique                                               8959   \n",
       "top     Fashion Jewellery Alloy Necklace - Buy Fashion...   \n",
       "freq                                                   38   \n",
       "\n",
       "             product_rating       overall_rating        brand  \\\n",
       "count                 10237                10237        10237   \n",
       "unique                   34                   34         2299   \n",
       "top     No rating available  No rating available  Allure Auto   \n",
       "freq                   9476                 9476          468   \n",
       "\n",
       "                product_specifications  \n",
       "count                            10237  \n",
       "unique                            9885  \n",
       "top     {\"product_specification\"=>nil}  \n",
       "freq                                39  "
      ]
     },
     "execution_count": 31,
     "metadata": {},
     "output_type": "execute_result"
    }
   ],
   "source": [
    "df.describe(include=\"object\")"
   ]
  },
  {
   "cell_type": "markdown",
   "id": "d9f9faad",
   "metadata": {},
   "source": [
    "## Feature Selection \n"
   ]
  },
  {
   "cell_type": "code",
   "execution_count": 34,
   "id": "c0d799eb-8132-477b-a636-1c29f5a14704",
   "metadata": {
    "tags": []
   },
   "outputs": [
    {
     "data": {
      "text/plain": [
       "Index(['uniq_id', 'crawl_timestamp', 'product_url', 'product_name',\n",
       "       'product_category_tree', 'pid', 'retail_price', 'discounted_price',\n",
       "       'image', 'is_FK_Advantage_product', 'description', 'product_rating',\n",
       "       'overall_rating', 'brand', 'product_specifications'],\n",
       "      dtype='object')"
      ]
     },
     "execution_count": 34,
     "metadata": {},
     "output_type": "execute_result"
    }
   ],
   "source": [
    "df.columns"
   ]
  },
  {
   "cell_type": "markdown",
   "id": "f46b8286-6491-4ac2-849b-7a474465c2e1",
   "metadata": {},
   "source": [
    "### We can observe from above columns that only , 'description', 'product_specifications', 'product_category_tree', are columns of our interest for our Problem Statement ."
   ]
  },
  {
   "cell_type": "markdown",
   "id": "6f0fa00f-cc60-403a-9a80-9f8db4089eaf",
   "metadata": {},
   "source": [
    "## Feature Engineering"
   ]
  },
  {
   "cell_type": "markdown",
   "id": "bb85eb6a-6298-4ee3-acdf-6dc1364ec132",
   "metadata": {},
   "source": [
    "#### df ['product_category_tree'] is the Target columns that we need to predict ."
   ]
  },
  {
   "cell_type": "code",
   "execution_count": 35,
   "id": "8bfea990",
   "metadata": {
    "tags": []
   },
   "outputs": [
    {
     "data": {
      "text/plain": [
       "array(['Clothing ', 'Footwear ', 'Pens & Stationery ',\n",
       "       'Bags, Wallets & Belts ', 'Home Decor & Festive Needs ',\n",
       "       'Automotive ', 'Tools & Hardware ', 'Baby Care ',\n",
       "       'Mobiles & Accessories ', 'Toys & School Supplies ', 'Jewellery ',\n",
       "       'Kitchen & Dining ', 'Computers ', 'Watches '], dtype=object)"
      ]
     },
     "execution_count": 35,
     "metadata": {},
     "output_type": "execute_result"
    }
   ],
   "source": [
    "df['product_category_tree'].unique()"
   ]
  },
  {
   "cell_type": "markdown",
   "id": "fa3e2213-9e6d-4f3e-9ac2-da4235b1233c",
   "metadata": {},
   "source": [
    "## Label Encoding \n",
    "### To encode the category column"
   ]
  },
  {
   "cell_type": "code",
   "execution_count": 36,
   "id": "b289c420-f117-4814-9b31-f763bf6c190e",
   "metadata": {
    "tags": []
   },
   "outputs": [
    {
     "name": "stdout",
     "output_type": "stream",
     "text": [
      "Original labels: ['Clothing ', 'Footwear ', 'Pens & Stationery ', 'Bags, Wallets & Belts ', 'Home Decor & Festive Needs ', 'Automotive ', 'Tools & Hardware ', 'Baby Care ', 'Mobiles & Accessories ', 'Toys & School Supplies ', 'Jewellery ', 'Kitchen & Dining ', 'Computers ', 'Watches ']\n",
      "Encoded labels: [0, 1, 2, 3, 4, 5, 6, 7, 8, 9, 10, 11, 12, 13]\n"
     ]
    }
   ],
   "source": [
    "#label Encoding \n",
    "\n",
    "# Define a dictionary mapping categories to numerical values\n",
    "labels = ['Clothing ', 'Footwear ', 'Pens & Stationery ',\n",
    "       'Bags, Wallets & Belts ', 'Home Decor & Festive Needs ',\n",
    "       'Automotive ', 'Tools & Hardware ', 'Baby Care ',\n",
    "       'Mobiles & Accessories ', 'Toys & School Supplies ', 'Jewellery ',\n",
    "       'Kitchen & Dining ', 'Computers ', 'Watches ']\n",
    "\n",
    "# Sample categorical labels\n",
    "label_map = {'Clothing ':0, 'Footwear ':1, 'Pens & Stationery ':2,\n",
    "       'Bags, Wallets & Belts ':3, 'Home Decor & Festive Needs ':4,\n",
    "       'Automotive ':5, 'Tools & Hardware ':6, 'Baby Care ':7,\n",
    "       'Mobiles & Accessories ':8, 'Toys & School Supplies ':9, 'Jewellery ':10,\n",
    "       'Kitchen & Dining ':11, 'Computers ':12, 'Watches ':13}\n",
    "\n",
    "\n",
    "# Use map function to apply the mapping\n",
    "encoded_labels = list(map(label_map.get, labels))\n",
    "\n",
    "print(\"Original labels:\", labels)\n",
    "print(\"Encoded labels:\", encoded_labels)\n"
   ]
  },
  {
   "cell_type": "markdown",
   "id": "bc8a33a0-5b63-47a7-a667-971d6af48159",
   "metadata": {
    "tags": []
   },
   "source": [
    "#### The two columns \"Description\" and \"product specification\" are Textual columns thus we need to perform Text cleaning .\n"
   ]
  },
  {
   "cell_type": "markdown",
   "id": "ac73a473-6358-4e9a-a914-d5bb5574b103",
   "metadata": {
    "tags": []
   },
   "source": [
    "## Text Cleaning and Lemmatizer"
   ]
  },
  {
   "cell_type": "code",
   "execution_count": 40,
   "id": "c103dbb0-1e45-4d0e-9711-7080b195f646",
   "metadata": {
    "tags": []
   },
   "outputs": [],
   "source": [
    "# creating a function to remove puncuation and not relevant text.\n",
    "def clean_text(text):\n",
    "  text = re.sub(r'[^A-Za-z0-9\\s.\\(\\)[\\]{\\}]+' , '' , text)\n",
    "  # print(text)\n",
    "  text = text.lower()\n",
    "  # print(text)\n",
    "  text = \" \".join(text.split())\n",
    "  return text"
   ]
  },
  {
   "cell_type": "code",
   "execution_count": 41,
   "id": "c4a115fc-0fee-406f-a2bb-eb3e307d8af0",
   "metadata": {
    "tags": []
   },
   "outputs": [
    {
     "name": "stderr",
     "output_type": "stream",
     "text": [
      "[nltk_data] Downloading package wordnet to\n",
      "[nltk_data]     C:\\Users\\akaur\\AppData\\Roaming\\nltk_data...\n",
      "[nltk_data]   Package wordnet is already up-to-date!\n"
     ]
    },
    {
     "data": {
      "text/plain": [
       "True"
      ]
     },
     "execution_count": 41,
     "metadata": {},
     "output_type": "execute_result"
    }
   ],
   "source": [
    "from nltk.stem import WordNetLemmatizer\n",
    "import nltk\n",
    "nltk.download('wordnet')"
   ]
  },
  {
   "cell_type": "code",
   "execution_count": 42,
   "id": "1789276c-3777-4a18-975d-c2818bc1ba03",
   "metadata": {
    "tags": []
   },
   "outputs": [],
   "source": [
    "stop = stopwords.words('english')\n",
    "lem = WordNetLemmatizer()\n",
    "\n",
    "\n",
    "def remove_stopwords(text):\n",
    "    \"\"\"The function to removing stopwords\"\"\"\n",
    "    text = [word.lower() for word in text.split() if word.lower() not in stop]\n",
    "    return \" \".join(text)\n",
    "\n",
    "def word_lem(text):\n",
    "    \"\"\"The function to apply lemmatizing\"\"\"\n",
    "    lem_text = [lem.lemmatize(word) for word in text.split()]\n",
    "    return \" \".join(lem_text)"
   ]
  },
  {
   "cell_type": "code",
   "execution_count": 45,
   "id": "561fc532-2f8f-4d0a-af01-fc7acc593994",
   "metadata": {
    "tags": []
   },
   "outputs": [],
   "source": [
    "import re\n",
    "\n",
    "def clean_text1(text):\n",
    "    \"\"\"\n",
    "    Cleans the text by removing brackets.\n",
    "\n",
    "    Args:\n",
    "    - text (str): The input text string.\n",
    "\n",
    "    Returns:\n",
    "    - str: The cleaned text string.\n",
    "    \"\"\"\n",
    "    # Define characters to remove\n",
    "    chars_to_remove = ['{', '}', '[', ']']\n",
    "\n",
    "    # Remove specified characters using regular expressions\n",
    "    cleaned_text = re.sub('|'.join(map(re.escape, chars_to_remove)), '', text)\n",
    "\n",
    "    return cleaned_text\n"
   ]
  },
  {
   "cell_type": "code",
   "execution_count": 46,
   "id": "3455ecd0-e150-40c3-a3fd-75053ebcd429",
   "metadata": {
    "tags": []
   },
   "outputs": [],
   "source": [
    "df['product_specifications'] = df['product_specifications'].apply(clean_text)\n",
    "df['description'] = df['description'].apply(clean_text)\n",
    "df['description'] = df['description'].apply(remove_stopwords)\n",
    "df['description'] = df['description'].apply(word_lem)\n",
    "df['product_specifications'] = df['product_specifications'].apply(remove_stopwords)\n",
    "df['product_specifications'] = df['product_specifications'].apply(word_lem)"
   ]
  },
  {
   "cell_type": "code",
   "execution_count": 47,
   "id": "e3371831-1495-445a-9f49-6af582aa0ef4",
   "metadata": {
    "tags": []
   },
   "outputs": [],
   "source": [
    "df['product_specifications'] = df['product_specifications'].apply(clean_text1)\n",
    "df['description'] = df['description'].apply(clean_text1)"
   ]
  },
  {
   "cell_type": "markdown",
   "id": "3750c40e-0dbe-45f0-a9bf-49e5f77b1c07",
   "metadata": {},
   "source": [
    " ### We will combine the two textual columns into ine for better Vectorization and Model Prediction."
   ]
  },
  {
   "cell_type": "code",
   "execution_count": 48,
   "id": "ae581978-64d2-4da7-be97-26dd34e0a86d",
   "metadata": {
    "tags": []
   },
   "outputs": [],
   "source": [
    "df['text_concat'] = df['product_specifications']+ ' ' + df['description']"
   ]
  },
  {
   "cell_type": "code",
   "execution_count": 49,
   "id": "41163f5c-9eba-4ab8-a5e2-50471ab7e814",
   "metadata": {
    "tags": []
   },
   "outputs": [
    {
     "data": {
      "text/plain": [
       "0        productspecificationkeynumber content sale pac...\n",
       "1        productspecificationkeyideal valuewomen keyocc...\n",
       "2        productspecificationkeynumber content sale pac...\n",
       "3        productspecificationkeynumber content sale pac...\n",
       "4        productspecificationkeyoccasion valueethnic ca...\n",
       "                               ...                        \n",
       "14994    productspecificationkeybrand valuethelostpuppy...\n",
       "14995    productspecificationkeycollection valuecontemp...\n",
       "14996    productspecificationkeybrand valuethelostpuppy...\n",
       "14997    productspecificationkeycollection valuecontemp...\n",
       "14998    productspecificationkeycollection valuecontemp...\n",
       "Name: text_concat, Length: 10237, dtype: object"
      ]
     },
     "execution_count": 49,
     "metadata": {},
     "output_type": "execute_result"
    }
   ],
   "source": [
    "df['text_concat']"
   ]
  },
  {
   "cell_type": "markdown",
   "id": "d016ca3f-5451-4041-bbb3-78e79d1f8225",
   "metadata": {},
   "source": [
    "### Here df['text_concat'] is the final column with cleaned text to build model on."
   ]
  },
  {
   "cell_type": "code",
   "execution_count": null,
   "id": "1bc54127-48ff-493f-933c-6d7587aceae8",
   "metadata": {},
   "outputs": [],
   "source": []
  },
  {
   "cell_type": "code",
   "execution_count": 50,
   "id": "3d9cfff4-a491-442d-b209-95a0d7c5393f",
   "metadata": {
    "tags": []
   },
   "outputs": [],
   "source": [
    "from sklearn.model_selection import train_test_split\n",
    "from sklearn.metrics import accuracy_score\n",
    "import pandas as pd\n",
    "from sklearn.feature_extraction.text import TfidfVectorizer"
   ]
  },
  {
   "cell_type": "markdown",
   "id": "6fabf7df-52a5-4443-a8f6-68194a1ff1c7",
   "metadata": {},
   "source": [
    " ## Loading Testing Data "
   ]
  },
  {
   "cell_type": "code",
   "execution_count": 51,
   "id": "9d699a2f-bb93-45f4-83dd-3cc4279cd59a",
   "metadata": {
    "tags": []
   },
   "outputs": [],
   "source": [
    "df1=pd.read_csv(r\"C:\\Users\\akaur\\Downloads\\test_data.csv\")"
   ]
  },
  {
   "cell_type": "code",
   "execution_count": 52,
   "id": "035a62f9-3f8d-4636-bc0b-79d29022fa02",
   "metadata": {
    "tags": []
   },
   "outputs": [
    {
     "data": {
      "text/plain": [
       "uniq_id                      0\n",
       "crawl_timestamp              0\n",
       "product_url                  0\n",
       "product_name                 0\n",
       "pid                          0\n",
       "retail_price                 4\n",
       "discounted_price             4\n",
       "image                        0\n",
       "is_FK_Advantage_product      0\n",
       "description                  0\n",
       "product_rating               0\n",
       "overall_rating               0\n",
       "brand                      522\n",
       "product_specifications       5\n",
       "dtype: int64"
      ]
     },
     "execution_count": 52,
     "metadata": {},
     "output_type": "execute_result"
    }
   ],
   "source": [
    "df1.isna().sum()"
   ]
  },
  {
   "cell_type": "code",
   "execution_count": 53,
   "id": "70a11deb-b1c7-4a95-a11c-08da4499c29c",
   "metadata": {
    "tags": []
   },
   "outputs": [],
   "source": [
    "## filling null values with forward fill\n",
    "df1 = df1.fillna(method='ffill')"
   ]
  },
  {
   "cell_type": "code",
   "execution_count": 54,
   "id": "b80f587b-a9a0-4643-8613-f9ea0cdb0cc8",
   "metadata": {
    "tags": []
   },
   "outputs": [
    {
     "data": {
      "text/plain": [
       "uniq_id                    0\n",
       "crawl_timestamp            0\n",
       "product_url                0\n",
       "product_name               0\n",
       "pid                        0\n",
       "retail_price               0\n",
       "discounted_price           0\n",
       "image                      0\n",
       "is_FK_Advantage_product    0\n",
       "description                0\n",
       "product_rating             0\n",
       "overall_rating             0\n",
       "brand                      0\n",
       "product_specifications     0\n",
       "dtype: int64"
      ]
     },
     "execution_count": 54,
     "metadata": {},
     "output_type": "execute_result"
    }
   ],
   "source": [
    "df1.isna().sum()"
   ]
  },
  {
   "cell_type": "code",
   "execution_count": 55,
   "id": "4e295705-1f55-44c9-b684-215a56ce54ee",
   "metadata": {
    "tags": []
   },
   "outputs": [
    {
     "name": "stdout",
     "output_type": "stream",
     "text": [
      "<class 'pandas.core.frame.DataFrame'>\n",
      "RangeIndex: 2534 entries, 0 to 2533\n",
      "Data columns (total 14 columns):\n",
      " #   Column                   Non-Null Count  Dtype  \n",
      "---  ------                   --------------  -----  \n",
      " 0   uniq_id                  2534 non-null   object \n",
      " 1   crawl_timestamp          2534 non-null   object \n",
      " 2   product_url              2534 non-null   object \n",
      " 3   product_name             2534 non-null   object \n",
      " 4   pid                      2534 non-null   object \n",
      " 5   retail_price             2534 non-null   float64\n",
      " 6   discounted_price         2534 non-null   float64\n",
      " 7   image                    2534 non-null   object \n",
      " 8   is_FK_Advantage_product  2534 non-null   bool   \n",
      " 9   description              2534 non-null   object \n",
      " 10  product_rating           2534 non-null   object \n",
      " 11  overall_rating           2534 non-null   object \n",
      " 12  brand                    2534 non-null   object \n",
      " 13  product_specifications   2534 non-null   object \n",
      "dtypes: bool(1), float64(2), object(11)\n",
      "memory usage: 260.0+ KB\n"
     ]
    }
   ],
   "source": [
    "df1.info()"
   ]
  },
  {
   "cell_type": "markdown",
   "id": "b3ac7549-1c3e-482e-910c-04a157478810",
   "metadata": {},
   "source": [
    "## Cleaning the Test Data"
   ]
  },
  {
   "cell_type": "code",
   "execution_count": 56,
   "id": "a65a7be6-a699-459d-a702-f84a5441ef38",
   "metadata": {
    "tags": []
   },
   "outputs": [],
   "source": [
    "df1['product_specifications'] = df1['product_specifications'].apply(clean_text)\n",
    "df1['description'] = df1['description'].apply(clean_text)\n",
    "df1['description'] = df1['description'].apply(remove_stopwords)\n",
    "df1['description'] = df1['description'].apply(word_lem)\n",
    "df1['product_specifications'] = df1['product_specifications'].apply(remove_stopwords)\n",
    "df1['product_specifications'] = df1['product_specifications'].apply(word_lem)"
   ]
  },
  {
   "cell_type": "code",
   "execution_count": 57,
   "id": "1ee8cbc3-c550-4730-89a4-794151d72f7b",
   "metadata": {
    "tags": []
   },
   "outputs": [],
   "source": [
    "df1['product_specifications'] = df1['product_specifications'].apply(clean_text1)\n",
    "df1['description'] = df1['description'].apply(clean_text1)"
   ]
  },
  {
   "cell_type": "code",
   "execution_count": 58,
   "id": "0ba87ee4-c231-445d-9c45-6d377cdeaf23",
   "metadata": {
    "tags": []
   },
   "outputs": [],
   "source": [
    "df1['text_concat'] = df1['product_specifications']+ ' ' + df1['description']"
   ]
  },
  {
   "cell_type": "code",
   "execution_count": 59,
   "id": "3d915004-29a9-41bd-8aab-0ee4c30b0b6a",
   "metadata": {
    "tags": []
   },
   "outputs": [
    {
     "data": {
      "text/plain": [
       "0       productspecificationkeybrand valuevandv art ke...\n",
       "1       productspecificationkeystretchable valueno key...\n",
       "2       productspecificationkeybrand valuethelostpuppy...\n",
       "3       productspecificationkeycollection valuedesigne...\n",
       "4       productspecificationkeystretchable valueno key...\n",
       "                              ...                        \n",
       "2529    productspecificationkeynumber content sale pac...\n",
       "2530    productspecificationkeynumber content sale pac...\n",
       "2531    productspecificationkeynumber content sale pac...\n",
       "2532    productspecificationkeynumber content sale pac...\n",
       "2533    productspecificationkeynumber content sale pac...\n",
       "Name: text_concat, Length: 2534, dtype: object"
      ]
     },
     "execution_count": 59,
     "metadata": {},
     "output_type": "execute_result"
    }
   ],
   "source": [
    "df1['text_concat']"
   ]
  },
  {
   "cell_type": "markdown",
   "id": "bfaea1e8-8361-449f-894f-f4d0f0c7d7e2",
   "metadata": {},
   "source": [
    "## Here we arew loading the Y_test data"
   ]
  },
  {
   "cell_type": "code",
   "execution_count": 60,
   "id": "d2505334-3a61-4eed-a7a0-eb7f90530cd6",
   "metadata": {
    "tags": []
   },
   "outputs": [],
   "source": [
    "df2=pd.read_csv(r\"C:\\Users\\akaur\\Downloads\\test_results.csv\")"
   ]
  },
  {
   "cell_type": "code",
   "execution_count": 61,
   "id": "6352f0e8-214e-4950-86ac-00f3fa7ec9c9",
   "metadata": {
    "tags": []
   },
   "outputs": [
    {
     "name": "stdout",
     "output_type": "stream",
     "text": [
      "<class 'pandas.core.frame.DataFrame'>\n",
      "RangeIndex: 2534 entries, 0 to 2533\n",
      "Data columns (total 1 columns):\n",
      " #   Column                 Non-Null Count  Dtype \n",
      "---  ------                 --------------  ----- \n",
      " 0   product_category_tree  2534 non-null   object\n",
      "dtypes: object(1)\n",
      "memory usage: 19.9+ KB\n"
     ]
    }
   ],
   "source": [
    "df2.info()"
   ]
  },
  {
   "cell_type": "code",
   "execution_count": 62,
   "id": "0e07288f-787f-4b9e-988f-41262c65aae2",
   "metadata": {
    "tags": []
   },
   "outputs": [
    {
     "data": {
      "text/plain": [
       "product_category_tree    0\n",
       "dtype: int64"
      ]
     },
     "execution_count": 62,
     "metadata": {},
     "output_type": "execute_result"
    }
   ],
   "source": [
    "df2.isna().sum()"
   ]
  },
  {
   "cell_type": "code",
   "execution_count": 63,
   "id": "73117d84-9ef2-4ccf-965d-a95323543e12",
   "metadata": {
    "tags": []
   },
   "outputs": [],
   "source": [
    "df2['encoded_labels'] = list(map(label_map.get, df2['product_category_tree']))"
   ]
  },
  {
   "cell_type": "markdown",
   "id": "678d7f1f-71cd-46ef-be94-f67e1cc9805d",
   "metadata": {},
   "source": [
    "## Vectorization\n",
    "\n",
    "#### To convert the textual data into the machine learning form"
   ]
  },
  {
   "cell_type": "code",
   "execution_count": 123,
   "id": "451e3875-10cb-45f0-9c5a-ffc3c21c0417",
   "metadata": {
    "tags": []
   },
   "outputs": [],
   "source": [
    "# Split data into train and test sets\n",
    "X_train=df['text_concat']\n",
    "X_test=df1['text_concat']\n",
    "y_train=df['encoded_labels'] \n",
    "y_test =df2['encoded_labels']\n",
    "\n",
    "# Initialize TF-IDF vectorizer\n",
    "tfidf_vectorizer = TfidfVectorizer()\n",
    "\n",
    "# Fit and transform the training data\n",
    "X_train_tfidf = tfidf_vectorizer.fit_transform(X_train)\n",
    "\n",
    "# Transform the test data\n",
    "X_test_tfidf = tfidf_vectorizer.transform(X_test)"
   ]
  },
  {
   "cell_type": "markdown",
   "id": "eaa13f4e-8b1b-4ffa-85ec-78eb9845978c",
   "metadata": {
    "tags": []
   },
   "source": [
    "## Bag of Words"
   ]
  },
  {
   "cell_type": "code",
   "execution_count": 124,
   "id": "b7f2bacc-02bc-4821-ab5f-565c6b88f59d",
   "metadata": {
    "tags": []
   },
   "outputs": [
    {
     "name": "stdout",
     "output_type": "stream",
     "text": [
      "BoW Vectors:\n",
      "[[0 0 0 ... 0 0 0]\n",
      " [0 0 0 ... 0 0 0]\n",
      " [0 0 0 ... 0 0 0]\n",
      " ...\n",
      " [0 0 0 ... 0 0 0]\n",
      " [0 0 0 ... 0 0 0]\n",
      " [0 0 0 ... 0 0 0]]\n",
      "\n",
      "Vocabulary:\n",
      "['00' '0002' '00032nl' ... 'zuhi' 'zunia' 'zyxel']\n"
     ]
    }
   ],
   "source": [
    "from sklearn.feature_extraction.text import CountVectorizer\n",
    "\n",
    "\n",
    "\n",
    "# Initialize CountVectorizer\n",
    "vectorizer = CountVectorizer()\n",
    "\n",
    "# Fit and transform the documents into BoW vectors\n",
    "bow_vectors = vectorizer.fit_transform(df['text_concat'])\n",
    "\n",
    "# Get the feature names (vocabulary)\n",
    "feature_names = vectorizer.get_feature_names_out()\n",
    "\n",
    "# Convert BoW vectors to array and print\n",
    "print(\"BoW Vectors:\")\n",
    "print(bow_vectors.toarray())\n",
    "\n",
    "# Print the vocabulary (feature names)\n",
    "print(\"\\nVocabulary:\")\n",
    "print(feature_names)\n"
   ]
  },
  {
   "cell_type": "markdown",
   "id": "af4dd443-1e0f-4dc8-9e2e-1d0124126e76",
   "metadata": {},
   "source": [
    "## Embedding"
   ]
  },
  {
   "cell_type": "code",
   "execution_count": 126,
   "id": "d6afe7e8-1559-4d5e-adc3-3f2885a7c186",
   "metadata": {
    "tags": []
   },
   "outputs": [
    {
     "name": "stdout",
     "output_type": "stream",
     "text": [
      "0        [-0.21956755, 0.33378312, 0.119104065, -0.2043...\n",
      "1        [-0.1730168, 0.2668476, 0.102172345, -0.120450...\n",
      "2        [-0.21820475, 0.3454073, 0.12975037, -0.205196...\n",
      "3        [-0.21762727, 0.3325714, 0.11899989, -0.208242...\n",
      "4        [-0.16498205, 0.32460758, 0.06774706, 0.087994...\n",
      "                               ...                        \n",
      "14994    [-0.13168548, 0.14685601, 0.31746137, -0.04702...\n",
      "14995    [-0.1974396, 0.39674205, 0.053319726, -0.15962...\n",
      "14996    [-0.14079635, 0.16348009, 0.31140774, -0.04005...\n",
      "14997    [-0.2701669, 0.37555304, 0.10905108, -0.227692...\n",
      "14998    [-0.16744572, 0.39836985, 0.08451732, -0.15589...\n",
      "Name: document_vector, Length: 10237, dtype: object\n"
     ]
    },
    {
     "data": {
      "text/html": [
       "<div>\n",
       "<style scoped>\n",
       "    .dataframe tbody tr th:only-of-type {\n",
       "        vertical-align: middle;\n",
       "    }\n",
       "\n",
       "    .dataframe tbody tr th {\n",
       "        vertical-align: top;\n",
       "    }\n",
       "\n",
       "    .dataframe thead th {\n",
       "        text-align: right;\n",
       "    }\n",
       "</style>\n",
       "<table border=\"1\" class=\"dataframe\">\n",
       "  <thead>\n",
       "    <tr style=\"text-align: right;\">\n",
       "      <th></th>\n",
       "      <th>uniq_id</th>\n",
       "      <th>crawl_timestamp</th>\n",
       "      <th>product_url</th>\n",
       "      <th>product_name</th>\n",
       "      <th>product_category_tree</th>\n",
       "      <th>pid</th>\n",
       "      <th>retail_price</th>\n",
       "      <th>discounted_price</th>\n",
       "      <th>image</th>\n",
       "      <th>is_FK_Advantage_product</th>\n",
       "      <th>description</th>\n",
       "      <th>product_rating</th>\n",
       "      <th>overall_rating</th>\n",
       "      <th>brand</th>\n",
       "      <th>product_specifications</th>\n",
       "      <th>encoded_labels</th>\n",
       "      <th>text_concat</th>\n",
       "      <th>tokens</th>\n",
       "      <th>word_vectors</th>\n",
       "      <th>document_vector</th>\n",
       "    </tr>\n",
       "  </thead>\n",
       "  <tbody>\n",
       "    <tr>\n",
       "      <th>0</th>\n",
       "      <td>c2d766ca982eca8304150849735ffef9</td>\n",
       "      <td>2016-03-25 22:59:23 +0000</td>\n",
       "      <td>http://www.flipkart.com/alisha-solid-women-s-c...</td>\n",
       "      <td>Alisha Solid Women's Cycling Shorts</td>\n",
       "      <td>Clothing</td>\n",
       "      <td>SRTEH2FF9KEDEFGF</td>\n",
       "      <td>999.0</td>\n",
       "      <td>379.0</td>\n",
       "      <td>[\"http://img5a.flixcart.com/image/short/u/4/a/...</td>\n",
       "      <td>False</td>\n",
       "      <td>key feature alisha solid woman cycling short c...</td>\n",
       "      <td>No rating available</td>\n",
       "      <td>No rating available</td>\n",
       "      <td>Alisha</td>\n",
       "      <td>productspecificationkeynumber content sale pac...</td>\n",
       "      <td>0</td>\n",
       "      <td>productspecificationkeynumber content sale pac...</td>\n",
       "      <td>[productspecificationkeynumber, content, sale,...</td>\n",
       "      <td>[[-0.18555, -0.19955, 0.13965, -0.40343, 0.506...</td>\n",
       "      <td>[-0.21956755, 0.33378312, 0.119104065, -0.2043...</td>\n",
       "    </tr>\n",
       "    <tr>\n",
       "      <th>1</th>\n",
       "      <td>f449ec65dcbc041b6ae5e6a32717d01b</td>\n",
       "      <td>2016-03-25 22:59:23 +0000</td>\n",
       "      <td>http://www.flipkart.com/aw-bellies/p/itmeh4grg...</td>\n",
       "      <td>AW Bellies</td>\n",
       "      <td>Footwear</td>\n",
       "      <td>SHOEH4GRSUBJGZXE</td>\n",
       "      <td>999.0</td>\n",
       "      <td>499.0</td>\n",
       "      <td>[\"http://img5a.flixcart.com/image/shoe/7/z/z/r...</td>\n",
       "      <td>False</td>\n",
       "      <td>key feature aw belly sandal wedge heel casuals...</td>\n",
       "      <td>No rating available</td>\n",
       "      <td>No rating available</td>\n",
       "      <td>AW</td>\n",
       "      <td>productspecificationkeyideal valuewomen keyocc...</td>\n",
       "      <td>1</td>\n",
       "      <td>productspecificationkeyideal valuewomen keyocc...</td>\n",
       "      <td>[productspecificationkeyideal, valuewomen, key...</td>\n",
       "      <td>[[-0.37457, 0.73467, 0.56799, -0.53387, 0.3016...</td>\n",
       "      <td>[-0.1730168, 0.2668476, 0.102172345, -0.120450...</td>\n",
       "    </tr>\n",
       "    <tr>\n",
       "      <th>2</th>\n",
       "      <td>0973b37acd0c664e3de26e97e5571454</td>\n",
       "      <td>2016-03-25 22:59:23 +0000</td>\n",
       "      <td>http://www.flipkart.com/alisha-solid-women-s-c...</td>\n",
       "      <td>Alisha Solid Women's Cycling Shorts</td>\n",
       "      <td>Clothing</td>\n",
       "      <td>SRTEH2F6HUZMQ6SJ</td>\n",
       "      <td>699.0</td>\n",
       "      <td>267.0</td>\n",
       "      <td>[\"http://img5a.flixcart.com/image/short/6/2/h/...</td>\n",
       "      <td>False</td>\n",
       "      <td>key feature alisha solid woman cycling short c...</td>\n",
       "      <td>No rating available</td>\n",
       "      <td>No rating available</td>\n",
       "      <td>Alisha</td>\n",
       "      <td>productspecificationkeynumber content sale pac...</td>\n",
       "      <td>0</td>\n",
       "      <td>productspecificationkeynumber content sale pac...</td>\n",
       "      <td>[productspecificationkeynumber, content, sale,...</td>\n",
       "      <td>[[-0.18555, -0.19955, 0.13965, -0.40343, 0.506...</td>\n",
       "      <td>[-0.21820475, 0.3454073, 0.12975037, -0.205196...</td>\n",
       "    </tr>\n",
       "    <tr>\n",
       "      <th>3</th>\n",
       "      <td>ce5a6818f7707e2cb61fdcdbba61f5ad</td>\n",
       "      <td>2016-03-25 22:59:23 +0000</td>\n",
       "      <td>http://www.flipkart.com/alisha-solid-women-s-c...</td>\n",
       "      <td>Alisha Solid Women's Cycling Shorts</td>\n",
       "      <td>Clothing</td>\n",
       "      <td>SRTEH2FVVKRBAXHB</td>\n",
       "      <td>1199.0</td>\n",
       "      <td>479.0</td>\n",
       "      <td>[\"http://img6a.flixcart.com/image/short/p/j/z/...</td>\n",
       "      <td>False</td>\n",
       "      <td>key feature alisha solid woman cycling short c...</td>\n",
       "      <td>No rating available</td>\n",
       "      <td>No rating available</td>\n",
       "      <td>Alisha</td>\n",
       "      <td>productspecificationkeynumber content sale pac...</td>\n",
       "      <td>0</td>\n",
       "      <td>productspecificationkeynumber content sale pac...</td>\n",
       "      <td>[productspecificationkeynumber, content, sale,...</td>\n",
       "      <td>[[-0.18555, -0.19955, 0.13965, -0.40343, 0.506...</td>\n",
       "      <td>[-0.21762727, 0.3325714, 0.11899989, -0.208242...</td>\n",
       "    </tr>\n",
       "    <tr>\n",
       "      <th>4</th>\n",
       "      <td>29c8d290caa451f97b1c32df64477a2c</td>\n",
       "      <td>2016-03-25 22:59:23 +0000</td>\n",
       "      <td>http://www.flipkart.com/dilli-bazaaar-bellies-...</td>\n",
       "      <td>dilli bazaaar Bellies, Corporate Casuals, Casuals</td>\n",
       "      <td>Footwear</td>\n",
       "      <td>SHOEH3DZBFR88SCK</td>\n",
       "      <td>699.0</td>\n",
       "      <td>349.0</td>\n",
       "      <td>[\"http://img6a.flixcart.com/image/shoe/b/p/n/p...</td>\n",
       "      <td>False</td>\n",
       "      <td>key feature dilli bazaaar belly corporate casu...</td>\n",
       "      <td>No rating available</td>\n",
       "      <td>No rating available</td>\n",
       "      <td>dilli bazaaar</td>\n",
       "      <td>productspecificationkeyoccasion valueethnic ca...</td>\n",
       "      <td>1</td>\n",
       "      <td>productspecificationkeyoccasion valueethnic ca...</td>\n",
       "      <td>[productspecificationkeyoccasion, valueethnic,...</td>\n",
       "      <td>[[0.40768, 0.053367, 0.27432, 0.61077, -0.7598...</td>\n",
       "      <td>[-0.16498205, 0.32460758, 0.06774706, 0.087994...</td>\n",
       "    </tr>\n",
       "  </tbody>\n",
       "</table>\n",
       "</div>"
      ],
      "text/plain": [
       "                            uniq_id            crawl_timestamp  \\\n",
       "0  c2d766ca982eca8304150849735ffef9  2016-03-25 22:59:23 +0000   \n",
       "1  f449ec65dcbc041b6ae5e6a32717d01b  2016-03-25 22:59:23 +0000   \n",
       "2  0973b37acd0c664e3de26e97e5571454  2016-03-25 22:59:23 +0000   \n",
       "3  ce5a6818f7707e2cb61fdcdbba61f5ad  2016-03-25 22:59:23 +0000   \n",
       "4  29c8d290caa451f97b1c32df64477a2c  2016-03-25 22:59:23 +0000   \n",
       "\n",
       "                                         product_url  \\\n",
       "0  http://www.flipkart.com/alisha-solid-women-s-c...   \n",
       "1  http://www.flipkart.com/aw-bellies/p/itmeh4grg...   \n",
       "2  http://www.flipkart.com/alisha-solid-women-s-c...   \n",
       "3  http://www.flipkart.com/alisha-solid-women-s-c...   \n",
       "4  http://www.flipkart.com/dilli-bazaaar-bellies-...   \n",
       "\n",
       "                                        product_name product_category_tree  \\\n",
       "0                Alisha Solid Women's Cycling Shorts             Clothing    \n",
       "1                                         AW Bellies             Footwear    \n",
       "2                Alisha Solid Women's Cycling Shorts             Clothing    \n",
       "3                Alisha Solid Women's Cycling Shorts             Clothing    \n",
       "4  dilli bazaaar Bellies, Corporate Casuals, Casuals             Footwear    \n",
       "\n",
       "                pid  retail_price  discounted_price  \\\n",
       "0  SRTEH2FF9KEDEFGF         999.0             379.0   \n",
       "1  SHOEH4GRSUBJGZXE         999.0             499.0   \n",
       "2  SRTEH2F6HUZMQ6SJ         699.0             267.0   \n",
       "3  SRTEH2FVVKRBAXHB        1199.0             479.0   \n",
       "4  SHOEH3DZBFR88SCK         699.0             349.0   \n",
       "\n",
       "                                               image  is_FK_Advantage_product  \\\n",
       "0  [\"http://img5a.flixcart.com/image/short/u/4/a/...                    False   \n",
       "1  [\"http://img5a.flixcart.com/image/shoe/7/z/z/r...                    False   \n",
       "2  [\"http://img5a.flixcart.com/image/short/6/2/h/...                    False   \n",
       "3  [\"http://img6a.flixcart.com/image/short/p/j/z/...                    False   \n",
       "4  [\"http://img6a.flixcart.com/image/shoe/b/p/n/p...                    False   \n",
       "\n",
       "                                         description       product_rating  \\\n",
       "0  key feature alisha solid woman cycling short c...  No rating available   \n",
       "1  key feature aw belly sandal wedge heel casuals...  No rating available   \n",
       "2  key feature alisha solid woman cycling short c...  No rating available   \n",
       "3  key feature alisha solid woman cycling short c...  No rating available   \n",
       "4  key feature dilli bazaaar belly corporate casu...  No rating available   \n",
       "\n",
       "        overall_rating          brand  \\\n",
       "0  No rating available         Alisha   \n",
       "1  No rating available             AW   \n",
       "2  No rating available         Alisha   \n",
       "3  No rating available         Alisha   \n",
       "4  No rating available  dilli bazaaar   \n",
       "\n",
       "                              product_specifications  encoded_labels  \\\n",
       "0  productspecificationkeynumber content sale pac...               0   \n",
       "1  productspecificationkeyideal valuewomen keyocc...               1   \n",
       "2  productspecificationkeynumber content sale pac...               0   \n",
       "3  productspecificationkeynumber content sale pac...               0   \n",
       "4  productspecificationkeyoccasion valueethnic ca...               1   \n",
       "\n",
       "                                         text_concat  \\\n",
       "0  productspecificationkeynumber content sale pac...   \n",
       "1  productspecificationkeyideal valuewomen keyocc...   \n",
       "2  productspecificationkeynumber content sale pac...   \n",
       "3  productspecificationkeynumber content sale pac...   \n",
       "4  productspecificationkeyoccasion valueethnic ca...   \n",
       "\n",
       "                                              tokens  \\\n",
       "0  [productspecificationkeynumber, content, sale,...   \n",
       "1  [productspecificationkeyideal, valuewomen, key...   \n",
       "2  [productspecificationkeynumber, content, sale,...   \n",
       "3  [productspecificationkeynumber, content, sale,...   \n",
       "4  [productspecificationkeyoccasion, valueethnic,...   \n",
       "\n",
       "                                        word_vectors  \\\n",
       "0  [[-0.18555, -0.19955, 0.13965, -0.40343, 0.506...   \n",
       "1  [[-0.37457, 0.73467, 0.56799, -0.53387, 0.3016...   \n",
       "2  [[-0.18555, -0.19955, 0.13965, -0.40343, 0.506...   \n",
       "3  [[-0.18555, -0.19955, 0.13965, -0.40343, 0.506...   \n",
       "4  [[0.40768, 0.053367, 0.27432, 0.61077, -0.7598...   \n",
       "\n",
       "                                     document_vector  \n",
       "0  [-0.21956755, 0.33378312, 0.119104065, -0.2043...  \n",
       "1  [-0.1730168, 0.2668476, 0.102172345, -0.120450...  \n",
       "2  [-0.21820475, 0.3454073, 0.12975037, -0.205196...  \n",
       "3  [-0.21762727, 0.3325714, 0.11899989, -0.208242...  \n",
       "4  [-0.16498205, 0.32460758, 0.06774706, 0.087994...  "
      ]
     },
     "execution_count": 126,
     "metadata": {},
     "output_type": "execute_result"
    }
   ],
   "source": [
    "import pandas as pd\n",
    "import numpy as np\n",
    "import gensim.downloader as api\n",
    "\n",
    "# Load pre-trained GloVe word embeddings\n",
    "glove_model = api.load(\"glove-wiki-gigaword-100\")\n",
    "\n",
    "\n",
    "# Tokenize the text data in the DataFrame\n",
    "df['tokens'] = df['text_concat'].apply(lambda x: x.split())\n",
    "\n",
    "# Map each token to its corresponding word embedding vector\n",
    "def get_word_vectors(tokens):\n",
    "    vectors = []\n",
    "    for token in tokens:\n",
    "        if token in glove_model.key_to_index:\n",
    "            vectors.append(glove_model[token])\n",
    "    return vectors\n",
    "\n",
    "df['word_vectors'] = df['tokens'].apply(get_word_vectors)\n",
    "\n",
    "# Aggregate word embedding vectors for each document\n",
    "df['document_vector'] = df['word_vectors'].apply(lambda x: np.mean(x, axis=0) if x else np.nan)\n",
    "\n",
    "print(df['document_vector'])  \n",
    "df.head()\n",
    "\n"
   ]
  },
  {
   "cell_type": "code",
   "execution_count": 127,
   "id": "a22f3eae-3578-446c-bda7-5237b573b299",
   "metadata": {
    "tags": []
   },
   "outputs": [],
   "source": [
    "X_trainem = np.array(df['document_vector'].apply(np.array).tolist())"
   ]
  },
  {
   "cell_type": "code",
   "execution_count": 128,
   "id": "6d283bcd-d318-4afb-97d3-7aecfbfebf77",
   "metadata": {
    "tags": []
   },
   "outputs": [
    {
     "data": {
      "text/plain": [
       "array([[-0.21956755,  0.33378312,  0.11910407, ..., -0.3200754 ,\n",
       "         0.39259622,  0.14093812],\n",
       "       [-0.1730168 ,  0.2668476 ,  0.10217234, ..., -0.2359086 ,\n",
       "         0.56710345, -0.06124213],\n",
       "       [-0.21820475,  0.3454073 ,  0.12975037, ..., -0.31918234,\n",
       "         0.41045567,  0.15456764],\n",
       "       ...,\n",
       "       [-0.14079635,  0.16348009,  0.31140774, ..., -0.23720619,\n",
       "         0.4815912 ,  0.05052378],\n",
       "       [-0.2701669 ,  0.37555304,  0.10905108, ..., -0.32215   ,\n",
       "         0.5197273 ,  0.10841321],\n",
       "       [-0.16744572,  0.39836985,  0.08451732, ..., -0.32209396,\n",
       "         0.4417509 ,  0.09557577]], dtype=float32)"
      ]
     },
     "execution_count": 128,
     "metadata": {},
     "output_type": "execute_result"
    }
   ],
   "source": [
    "X_trainem"
   ]
  },
  {
   "cell_type": "markdown",
   "id": "b6999af4-e693-4ace-8681-1362e10bae02",
   "metadata": {
    "tags": []
   },
   "source": [
    "## Embedding on Testing Data "
   ]
  },
  {
   "cell_type": "code",
   "execution_count": 130,
   "id": "6007db81-7ff9-41aa-97e2-57179871e000",
   "metadata": {
    "tags": []
   },
   "outputs": [
    {
     "name": "stdout",
     "output_type": "stream",
     "text": [
      "                                        document_vector\n",
      "0     [0.035954345, 0.48021317, -0.03960244, -0.2082...\n",
      "1     [-0.20391686, 0.371416, -0.08478486, 0.0117183...\n",
      "2     [-0.13685037, 0.15033528, 0.3093536, -0.033966...\n",
      "3     [0.1426115, 0.48065668, -0.03869752, -0.078611...\n",
      "4     [-0.20086674, 0.3309473, -0.0038158924, -0.049...\n",
      "...                                                 ...\n",
      "2529  [-0.21076892, 0.44184572, 0.031579874, -0.1321...\n",
      "2530  [-0.24696392, 0.34193844, -0.04098093, -0.1997...\n",
      "2531  [-0.26069787, 0.37153485, -0.025604105, -0.189...\n",
      "2532  [-0.26069787, 0.37153485, -0.025604105, -0.189...\n",
      "2533  [-0.27518627, 0.34142706, -0.012493952, -0.178...\n",
      "\n",
      "[2534 rows x 1 columns]\n"
     ]
    },
    {
     "data": {
      "text/html": [
       "<div>\n",
       "<style scoped>\n",
       "    .dataframe tbody tr th:only-of-type {\n",
       "        vertical-align: middle;\n",
       "    }\n",
       "\n",
       "    .dataframe tbody tr th {\n",
       "        vertical-align: top;\n",
       "    }\n",
       "\n",
       "    .dataframe thead th {\n",
       "        text-align: right;\n",
       "    }\n",
       "</style>\n",
       "<table border=\"1\" class=\"dataframe\">\n",
       "  <thead>\n",
       "    <tr style=\"text-align: right;\">\n",
       "      <th></th>\n",
       "      <th>uniq_id</th>\n",
       "      <th>crawl_timestamp</th>\n",
       "      <th>product_url</th>\n",
       "      <th>product_name</th>\n",
       "      <th>product_category_tree</th>\n",
       "      <th>pid</th>\n",
       "      <th>retail_price</th>\n",
       "      <th>discounted_price</th>\n",
       "      <th>image</th>\n",
       "      <th>is_FK_Advantage_product</th>\n",
       "      <th>description</th>\n",
       "      <th>product_rating</th>\n",
       "      <th>overall_rating</th>\n",
       "      <th>brand</th>\n",
       "      <th>product_specifications</th>\n",
       "      <th>encoded_labels</th>\n",
       "      <th>text_concat</th>\n",
       "      <th>tokens</th>\n",
       "      <th>word_vectors</th>\n",
       "      <th>document_vector</th>\n",
       "    </tr>\n",
       "  </thead>\n",
       "  <tbody>\n",
       "    <tr>\n",
       "      <th>0</th>\n",
       "      <td>c2d766ca982eca8304150849735ffef9</td>\n",
       "      <td>2016-03-25 22:59:23 +0000</td>\n",
       "      <td>http://www.flipkart.com/alisha-solid-women-s-c...</td>\n",
       "      <td>Alisha Solid Women's Cycling Shorts</td>\n",
       "      <td>Clothing</td>\n",
       "      <td>SRTEH2FF9KEDEFGF</td>\n",
       "      <td>999.0</td>\n",
       "      <td>379.0</td>\n",
       "      <td>[\"http://img5a.flixcart.com/image/short/u/4/a/...</td>\n",
       "      <td>False</td>\n",
       "      <td>key feature alisha solid woman cycling short c...</td>\n",
       "      <td>No rating available</td>\n",
       "      <td>No rating available</td>\n",
       "      <td>Alisha</td>\n",
       "      <td>productspecificationkeynumber content sale pac...</td>\n",
       "      <td>0</td>\n",
       "      <td>productspecificationkeynumber content sale pac...</td>\n",
       "      <td>[productspecificationkeynumber, content, sale,...</td>\n",
       "      <td>[[-0.18555, -0.19955, 0.13965, -0.40343, 0.506...</td>\n",
       "      <td>[-0.21956755, 0.33378312, 0.119104065, -0.2043...</td>\n",
       "    </tr>\n",
       "    <tr>\n",
       "      <th>1</th>\n",
       "      <td>f449ec65dcbc041b6ae5e6a32717d01b</td>\n",
       "      <td>2016-03-25 22:59:23 +0000</td>\n",
       "      <td>http://www.flipkart.com/aw-bellies/p/itmeh4grg...</td>\n",
       "      <td>AW Bellies</td>\n",
       "      <td>Footwear</td>\n",
       "      <td>SHOEH4GRSUBJGZXE</td>\n",
       "      <td>999.0</td>\n",
       "      <td>499.0</td>\n",
       "      <td>[\"http://img5a.flixcart.com/image/shoe/7/z/z/r...</td>\n",
       "      <td>False</td>\n",
       "      <td>key feature aw belly sandal wedge heel casuals...</td>\n",
       "      <td>No rating available</td>\n",
       "      <td>No rating available</td>\n",
       "      <td>AW</td>\n",
       "      <td>productspecificationkeyideal valuewomen keyocc...</td>\n",
       "      <td>1</td>\n",
       "      <td>productspecificationkeyideal valuewomen keyocc...</td>\n",
       "      <td>[productspecificationkeyideal, valuewomen, key...</td>\n",
       "      <td>[[-0.37457, 0.73467, 0.56799, -0.53387, 0.3016...</td>\n",
       "      <td>[-0.1730168, 0.2668476, 0.102172345, -0.120450...</td>\n",
       "    </tr>\n",
       "    <tr>\n",
       "      <th>2</th>\n",
       "      <td>0973b37acd0c664e3de26e97e5571454</td>\n",
       "      <td>2016-03-25 22:59:23 +0000</td>\n",
       "      <td>http://www.flipkart.com/alisha-solid-women-s-c...</td>\n",
       "      <td>Alisha Solid Women's Cycling Shorts</td>\n",
       "      <td>Clothing</td>\n",
       "      <td>SRTEH2F6HUZMQ6SJ</td>\n",
       "      <td>699.0</td>\n",
       "      <td>267.0</td>\n",
       "      <td>[\"http://img5a.flixcart.com/image/short/6/2/h/...</td>\n",
       "      <td>False</td>\n",
       "      <td>key feature alisha solid woman cycling short c...</td>\n",
       "      <td>No rating available</td>\n",
       "      <td>No rating available</td>\n",
       "      <td>Alisha</td>\n",
       "      <td>productspecificationkeynumber content sale pac...</td>\n",
       "      <td>0</td>\n",
       "      <td>productspecificationkeynumber content sale pac...</td>\n",
       "      <td>[productspecificationkeynumber, content, sale,...</td>\n",
       "      <td>[[-0.18555, -0.19955, 0.13965, -0.40343, 0.506...</td>\n",
       "      <td>[-0.21820475, 0.3454073, 0.12975037, -0.205196...</td>\n",
       "    </tr>\n",
       "    <tr>\n",
       "      <th>3</th>\n",
       "      <td>ce5a6818f7707e2cb61fdcdbba61f5ad</td>\n",
       "      <td>2016-03-25 22:59:23 +0000</td>\n",
       "      <td>http://www.flipkart.com/alisha-solid-women-s-c...</td>\n",
       "      <td>Alisha Solid Women's Cycling Shorts</td>\n",
       "      <td>Clothing</td>\n",
       "      <td>SRTEH2FVVKRBAXHB</td>\n",
       "      <td>1199.0</td>\n",
       "      <td>479.0</td>\n",
       "      <td>[\"http://img6a.flixcart.com/image/short/p/j/z/...</td>\n",
       "      <td>False</td>\n",
       "      <td>key feature alisha solid woman cycling short c...</td>\n",
       "      <td>No rating available</td>\n",
       "      <td>No rating available</td>\n",
       "      <td>Alisha</td>\n",
       "      <td>productspecificationkeynumber content sale pac...</td>\n",
       "      <td>0</td>\n",
       "      <td>productspecificationkeynumber content sale pac...</td>\n",
       "      <td>[productspecificationkeynumber, content, sale,...</td>\n",
       "      <td>[[-0.18555, -0.19955, 0.13965, -0.40343, 0.506...</td>\n",
       "      <td>[-0.21762727, 0.3325714, 0.11899989, -0.208242...</td>\n",
       "    </tr>\n",
       "    <tr>\n",
       "      <th>4</th>\n",
       "      <td>29c8d290caa451f97b1c32df64477a2c</td>\n",
       "      <td>2016-03-25 22:59:23 +0000</td>\n",
       "      <td>http://www.flipkart.com/dilli-bazaaar-bellies-...</td>\n",
       "      <td>dilli bazaaar Bellies, Corporate Casuals, Casuals</td>\n",
       "      <td>Footwear</td>\n",
       "      <td>SHOEH3DZBFR88SCK</td>\n",
       "      <td>699.0</td>\n",
       "      <td>349.0</td>\n",
       "      <td>[\"http://img6a.flixcart.com/image/shoe/b/p/n/p...</td>\n",
       "      <td>False</td>\n",
       "      <td>key feature dilli bazaaar belly corporate casu...</td>\n",
       "      <td>No rating available</td>\n",
       "      <td>No rating available</td>\n",
       "      <td>dilli bazaaar</td>\n",
       "      <td>productspecificationkeyoccasion valueethnic ca...</td>\n",
       "      <td>1</td>\n",
       "      <td>productspecificationkeyoccasion valueethnic ca...</td>\n",
       "      <td>[productspecificationkeyoccasion, valueethnic,...</td>\n",
       "      <td>[[0.40768, 0.053367, 0.27432, 0.61077, -0.7598...</td>\n",
       "      <td>[-0.16498205, 0.32460758, 0.06774706, 0.087994...</td>\n",
       "    </tr>\n",
       "  </tbody>\n",
       "</table>\n",
       "</div>"
      ],
      "text/plain": [
       "                            uniq_id            crawl_timestamp  \\\n",
       "0  c2d766ca982eca8304150849735ffef9  2016-03-25 22:59:23 +0000   \n",
       "1  f449ec65dcbc041b6ae5e6a32717d01b  2016-03-25 22:59:23 +0000   \n",
       "2  0973b37acd0c664e3de26e97e5571454  2016-03-25 22:59:23 +0000   \n",
       "3  ce5a6818f7707e2cb61fdcdbba61f5ad  2016-03-25 22:59:23 +0000   \n",
       "4  29c8d290caa451f97b1c32df64477a2c  2016-03-25 22:59:23 +0000   \n",
       "\n",
       "                                         product_url  \\\n",
       "0  http://www.flipkart.com/alisha-solid-women-s-c...   \n",
       "1  http://www.flipkart.com/aw-bellies/p/itmeh4grg...   \n",
       "2  http://www.flipkart.com/alisha-solid-women-s-c...   \n",
       "3  http://www.flipkart.com/alisha-solid-women-s-c...   \n",
       "4  http://www.flipkart.com/dilli-bazaaar-bellies-...   \n",
       "\n",
       "                                        product_name product_category_tree  \\\n",
       "0                Alisha Solid Women's Cycling Shorts             Clothing    \n",
       "1                                         AW Bellies             Footwear    \n",
       "2                Alisha Solid Women's Cycling Shorts             Clothing    \n",
       "3                Alisha Solid Women's Cycling Shorts             Clothing    \n",
       "4  dilli bazaaar Bellies, Corporate Casuals, Casuals             Footwear    \n",
       "\n",
       "                pid  retail_price  discounted_price  \\\n",
       "0  SRTEH2FF9KEDEFGF         999.0             379.0   \n",
       "1  SHOEH4GRSUBJGZXE         999.0             499.0   \n",
       "2  SRTEH2F6HUZMQ6SJ         699.0             267.0   \n",
       "3  SRTEH2FVVKRBAXHB        1199.0             479.0   \n",
       "4  SHOEH3DZBFR88SCK         699.0             349.0   \n",
       "\n",
       "                                               image  is_FK_Advantage_product  \\\n",
       "0  [\"http://img5a.flixcart.com/image/short/u/4/a/...                    False   \n",
       "1  [\"http://img5a.flixcart.com/image/shoe/7/z/z/r...                    False   \n",
       "2  [\"http://img5a.flixcart.com/image/short/6/2/h/...                    False   \n",
       "3  [\"http://img6a.flixcart.com/image/short/p/j/z/...                    False   \n",
       "4  [\"http://img6a.flixcart.com/image/shoe/b/p/n/p...                    False   \n",
       "\n",
       "                                         description       product_rating  \\\n",
       "0  key feature alisha solid woman cycling short c...  No rating available   \n",
       "1  key feature aw belly sandal wedge heel casuals...  No rating available   \n",
       "2  key feature alisha solid woman cycling short c...  No rating available   \n",
       "3  key feature alisha solid woman cycling short c...  No rating available   \n",
       "4  key feature dilli bazaaar belly corporate casu...  No rating available   \n",
       "\n",
       "        overall_rating          brand  \\\n",
       "0  No rating available         Alisha   \n",
       "1  No rating available             AW   \n",
       "2  No rating available         Alisha   \n",
       "3  No rating available         Alisha   \n",
       "4  No rating available  dilli bazaaar   \n",
       "\n",
       "                              product_specifications  encoded_labels  \\\n",
       "0  productspecificationkeynumber content sale pac...               0   \n",
       "1  productspecificationkeyideal valuewomen keyocc...               1   \n",
       "2  productspecificationkeynumber content sale pac...               0   \n",
       "3  productspecificationkeynumber content sale pac...               0   \n",
       "4  productspecificationkeyoccasion valueethnic ca...               1   \n",
       "\n",
       "                                         text_concat  \\\n",
       "0  productspecificationkeynumber content sale pac...   \n",
       "1  productspecificationkeyideal valuewomen keyocc...   \n",
       "2  productspecificationkeynumber content sale pac...   \n",
       "3  productspecificationkeynumber content sale pac...   \n",
       "4  productspecificationkeyoccasion valueethnic ca...   \n",
       "\n",
       "                                              tokens  \\\n",
       "0  [productspecificationkeynumber, content, sale,...   \n",
       "1  [productspecificationkeyideal, valuewomen, key...   \n",
       "2  [productspecificationkeynumber, content, sale,...   \n",
       "3  [productspecificationkeynumber, content, sale,...   \n",
       "4  [productspecificationkeyoccasion, valueethnic,...   \n",
       "\n",
       "                                        word_vectors  \\\n",
       "0  [[-0.18555, -0.19955, 0.13965, -0.40343, 0.506...   \n",
       "1  [[-0.37457, 0.73467, 0.56799, -0.53387, 0.3016...   \n",
       "2  [[-0.18555, -0.19955, 0.13965, -0.40343, 0.506...   \n",
       "3  [[-0.18555, -0.19955, 0.13965, -0.40343, 0.506...   \n",
       "4  [[0.40768, 0.053367, 0.27432, 0.61077, -0.7598...   \n",
       "\n",
       "                                     document_vector  \n",
       "0  [-0.21956755, 0.33378312, 0.119104065, -0.2043...  \n",
       "1  [-0.1730168, 0.2668476, 0.102172345, -0.120450...  \n",
       "2  [-0.21820475, 0.3454073, 0.12975037, -0.205196...  \n",
       "3  [-0.21762727, 0.3325714, 0.11899989, -0.208242...  \n",
       "4  [-0.16498205, 0.32460758, 0.06774706, 0.087994...  "
      ]
     },
     "execution_count": 130,
     "metadata": {},
     "output_type": "execute_result"
    }
   ],
   "source": [
    "import pandas as pd\n",
    "import numpy as np\n",
    "import gensim.downloader as api\n",
    "\n",
    "# Load pre-trained GloVe word embeddings\n",
    "glove_model = api.load(\"glove-wiki-gigaword-100\")\n",
    "\n",
    "\n",
    "# Tokenize the text data in the DataFrame\n",
    "df1['tokens'] = df1['text_concat'].apply(lambda x: x.split())\n",
    "\n",
    "# Map each token to its corresponding word embedding vector\n",
    "def get_word_vectors(tokens):\n",
    "    vectors = []\n",
    "    for token in tokens:\n",
    "        if token in glove_model.key_to_index:\n",
    "            vectors.append(glove_model[token])\n",
    "    return vectors\n",
    "\n",
    "df1['word_vectors'] = df1['tokens'].apply(get_word_vectors)\n",
    "\n",
    "# Aggregate word embedding vectors for each document\n",
    "df1['document_vector'] = df1['word_vectors'].apply(lambda x: np.mean(x, axis=0) if x else np.nan)\n",
    "\n",
    "print(df1[ ['document_vector']])\n",
    "df.head()"
   ]
  },
  {
   "cell_type": "code",
   "execution_count": 131,
   "id": "cee99f1c-95dd-463d-b5b9-aac2d0fd1c8c",
   "metadata": {
    "tags": []
   },
   "outputs": [],
   "source": [
    "X_testem = np.array(df1['document_vector'].apply(np.array).tolist())"
   ]
  },
  {
   "cell_type": "markdown",
   "id": "ebc60846-059b-46c2-a377-ca7de05f3e06",
   "metadata": {
    "tags": []
   },
   "source": [
    "## <a id='toc_5'></a>[7. MODEL SELECTION](#toc_7)"
   ]
  },
  {
   "cell_type": "markdown",
   "id": "b8979368-4353-44e0-937d-bbf3412cc819",
   "metadata": {},
   "source": [
    "## Random Forest Classifier"
   ]
  },
  {
   "cell_type": "code",
   "execution_count": 132,
   "id": "b5916ea2-960f-42e9-81c1-2b5e720db475",
   "metadata": {
    "tags": []
   },
   "outputs": [],
   "source": [
    "import pandas as pd\n",
    "import numpy \n",
    "from sklearn.model_selection import train_test_split, GridSearchCV,RandomizedSearchCV\n",
    "from sklearn.feature_extraction.text import TfidfVectorizer\n",
    "from sklearn.ensemble import RandomForestClassifier\n",
    "from sklearn.metrics import classification_report"
   ]
  },
  {
   "cell_type": "code",
   "execution_count": 138,
   "id": "87b6e291-fbcc-4738-a2df-b39e13873c2f",
   "metadata": {
    "tags": []
   },
   "outputs": [],
   "source": [
    "# Initialize RandomForestClassifier\n",
    "rf_classifier = RandomForestClassifier(random_state=42)"
   ]
  },
  {
   "cell_type": "code",
   "execution_count": 139,
   "id": "2444a788-c2b7-46f4-964d-7f4ecb340b35",
   "metadata": {
    "tags": []
   },
   "outputs": [
    {
     "data": {
      "text/html": [
       "<style>#sk-container-id-3 {\n",
       "  /* Definition of color scheme common for light and dark mode */\n",
       "  --sklearn-color-text: black;\n",
       "  --sklearn-color-line: gray;\n",
       "  /* Definition of color scheme for unfitted estimators */\n",
       "  --sklearn-color-unfitted-level-0: #fff5e6;\n",
       "  --sklearn-color-unfitted-level-1: #f6e4d2;\n",
       "  --sklearn-color-unfitted-level-2: #ffe0b3;\n",
       "  --sklearn-color-unfitted-level-3: chocolate;\n",
       "  /* Definition of color scheme for fitted estimators */\n",
       "  --sklearn-color-fitted-level-0: #f0f8ff;\n",
       "  --sklearn-color-fitted-level-1: #d4ebff;\n",
       "  --sklearn-color-fitted-level-2: #b3dbfd;\n",
       "  --sklearn-color-fitted-level-3: cornflowerblue;\n",
       "\n",
       "  /* Specific color for light theme */\n",
       "  --sklearn-color-text-on-default-background: var(--sg-text-color, var(--theme-code-foreground, var(--jp-content-font-color1, black)));\n",
       "  --sklearn-color-background: var(--sg-background-color, var(--theme-background, var(--jp-layout-color0, white)));\n",
       "  --sklearn-color-border-box: var(--sg-text-color, var(--theme-code-foreground, var(--jp-content-font-color1, black)));\n",
       "  --sklearn-color-icon: #696969;\n",
       "\n",
       "  @media (prefers-color-scheme: dark) {\n",
       "    /* Redefinition of color scheme for dark theme */\n",
       "    --sklearn-color-text-on-default-background: var(--sg-text-color, var(--theme-code-foreground, var(--jp-content-font-color1, white)));\n",
       "    --sklearn-color-background: var(--sg-background-color, var(--theme-background, var(--jp-layout-color0, #111)));\n",
       "    --sklearn-color-border-box: var(--sg-text-color, var(--theme-code-foreground, var(--jp-content-font-color1, white)));\n",
       "    --sklearn-color-icon: #878787;\n",
       "  }\n",
       "}\n",
       "\n",
       "#sk-container-id-3 {\n",
       "  color: var(--sklearn-color-text);\n",
       "}\n",
       "\n",
       "#sk-container-id-3 pre {\n",
       "  padding: 0;\n",
       "}\n",
       "\n",
       "#sk-container-id-3 input.sk-hidden--visually {\n",
       "  border: 0;\n",
       "  clip: rect(1px 1px 1px 1px);\n",
       "  clip: rect(1px, 1px, 1px, 1px);\n",
       "  height: 1px;\n",
       "  margin: -1px;\n",
       "  overflow: hidden;\n",
       "  padding: 0;\n",
       "  position: absolute;\n",
       "  width: 1px;\n",
       "}\n",
       "\n",
       "#sk-container-id-3 div.sk-dashed-wrapped {\n",
       "  border: 1px dashed var(--sklearn-color-line);\n",
       "  margin: 0 0.4em 0.5em 0.4em;\n",
       "  box-sizing: border-box;\n",
       "  padding-bottom: 0.4em;\n",
       "  background-color: var(--sklearn-color-background);\n",
       "}\n",
       "\n",
       "#sk-container-id-3 div.sk-container {\n",
       "  /* jupyter's `normalize.less` sets `[hidden] { display: none; }`\n",
       "     but bootstrap.min.css set `[hidden] { display: none !important; }`\n",
       "     so we also need the `!important` here to be able to override the\n",
       "     default hidden behavior on the sphinx rendered scikit-learn.org.\n",
       "     See: https://github.com/scikit-learn/scikit-learn/issues/21755 */\n",
       "  display: inline-block !important;\n",
       "  position: relative;\n",
       "}\n",
       "\n",
       "#sk-container-id-3 div.sk-text-repr-fallback {\n",
       "  display: none;\n",
       "}\n",
       "\n",
       "div.sk-parallel-item,\n",
       "div.sk-serial,\n",
       "div.sk-item {\n",
       "  /* draw centered vertical line to link estimators */\n",
       "  background-image: linear-gradient(var(--sklearn-color-text-on-default-background), var(--sklearn-color-text-on-default-background));\n",
       "  background-size: 2px 100%;\n",
       "  background-repeat: no-repeat;\n",
       "  background-position: center center;\n",
       "}\n",
       "\n",
       "/* Parallel-specific style estimator block */\n",
       "\n",
       "#sk-container-id-3 div.sk-parallel-item::after {\n",
       "  content: \"\";\n",
       "  width: 100%;\n",
       "  border-bottom: 2px solid var(--sklearn-color-text-on-default-background);\n",
       "  flex-grow: 1;\n",
       "}\n",
       "\n",
       "#sk-container-id-3 div.sk-parallel {\n",
       "  display: flex;\n",
       "  align-items: stretch;\n",
       "  justify-content: center;\n",
       "  background-color: var(--sklearn-color-background);\n",
       "  position: relative;\n",
       "}\n",
       "\n",
       "#sk-container-id-3 div.sk-parallel-item {\n",
       "  display: flex;\n",
       "  flex-direction: column;\n",
       "}\n",
       "\n",
       "#sk-container-id-3 div.sk-parallel-item:first-child::after {\n",
       "  align-self: flex-end;\n",
       "  width: 50%;\n",
       "}\n",
       "\n",
       "#sk-container-id-3 div.sk-parallel-item:last-child::after {\n",
       "  align-self: flex-start;\n",
       "  width: 50%;\n",
       "}\n",
       "\n",
       "#sk-container-id-3 div.sk-parallel-item:only-child::after {\n",
       "  width: 0;\n",
       "}\n",
       "\n",
       "/* Serial-specific style estimator block */\n",
       "\n",
       "#sk-container-id-3 div.sk-serial {\n",
       "  display: flex;\n",
       "  flex-direction: column;\n",
       "  align-items: center;\n",
       "  background-color: var(--sklearn-color-background);\n",
       "  padding-right: 1em;\n",
       "  padding-left: 1em;\n",
       "}\n",
       "\n",
       "\n",
       "/* Toggleable style: style used for estimator/Pipeline/ColumnTransformer box that is\n",
       "clickable and can be expanded/collapsed.\n",
       "- Pipeline and ColumnTransformer use this feature and define the default style\n",
       "- Estimators will overwrite some part of the style using the `sk-estimator` class\n",
       "*/\n",
       "\n",
       "/* Pipeline and ColumnTransformer style (default) */\n",
       "\n",
       "#sk-container-id-3 div.sk-toggleable {\n",
       "  /* Default theme specific background. It is overwritten whether we have a\n",
       "  specific estimator or a Pipeline/ColumnTransformer */\n",
       "  background-color: var(--sklearn-color-background);\n",
       "}\n",
       "\n",
       "/* Toggleable label */\n",
       "#sk-container-id-3 label.sk-toggleable__label {\n",
       "  cursor: pointer;\n",
       "  display: block;\n",
       "  width: 100%;\n",
       "  margin-bottom: 0;\n",
       "  padding: 0.5em;\n",
       "  box-sizing: border-box;\n",
       "  text-align: center;\n",
       "}\n",
       "\n",
       "#sk-container-id-3 label.sk-toggleable__label-arrow:before {\n",
       "  /* Arrow on the left of the label */\n",
       "  content: \"▸\";\n",
       "  float: left;\n",
       "  margin-right: 0.25em;\n",
       "  color: var(--sklearn-color-icon);\n",
       "}\n",
       "\n",
       "#sk-container-id-3 label.sk-toggleable__label-arrow:hover:before {\n",
       "  color: var(--sklearn-color-text);\n",
       "}\n",
       "\n",
       "/* Toggleable content - dropdown */\n",
       "\n",
       "#sk-container-id-3 div.sk-toggleable__content {\n",
       "  max-height: 0;\n",
       "  max-width: 0;\n",
       "  overflow: hidden;\n",
       "  text-align: left;\n",
       "  /* unfitted */\n",
       "  background-color: var(--sklearn-color-unfitted-level-0);\n",
       "}\n",
       "\n",
       "#sk-container-id-3 div.sk-toggleable__content.fitted {\n",
       "  /* fitted */\n",
       "  background-color: var(--sklearn-color-fitted-level-0);\n",
       "}\n",
       "\n",
       "#sk-container-id-3 div.sk-toggleable__content pre {\n",
       "  margin: 0.2em;\n",
       "  border-radius: 0.25em;\n",
       "  color: var(--sklearn-color-text);\n",
       "  /* unfitted */\n",
       "  background-color: var(--sklearn-color-unfitted-level-0);\n",
       "}\n",
       "\n",
       "#sk-container-id-3 div.sk-toggleable__content.fitted pre {\n",
       "  /* unfitted */\n",
       "  background-color: var(--sklearn-color-fitted-level-0);\n",
       "}\n",
       "\n",
       "#sk-container-id-3 input.sk-toggleable__control:checked~div.sk-toggleable__content {\n",
       "  /* Expand drop-down */\n",
       "  max-height: 200px;\n",
       "  max-width: 100%;\n",
       "  overflow: auto;\n",
       "}\n",
       "\n",
       "#sk-container-id-3 input.sk-toggleable__control:checked~label.sk-toggleable__label-arrow:before {\n",
       "  content: \"▾\";\n",
       "}\n",
       "\n",
       "/* Pipeline/ColumnTransformer-specific style */\n",
       "\n",
       "#sk-container-id-3 div.sk-label input.sk-toggleable__control:checked~label.sk-toggleable__label {\n",
       "  color: var(--sklearn-color-text);\n",
       "  background-color: var(--sklearn-color-unfitted-level-2);\n",
       "}\n",
       "\n",
       "#sk-container-id-3 div.sk-label.fitted input.sk-toggleable__control:checked~label.sk-toggleable__label {\n",
       "  background-color: var(--sklearn-color-fitted-level-2);\n",
       "}\n",
       "\n",
       "/* Estimator-specific style */\n",
       "\n",
       "/* Colorize estimator box */\n",
       "#sk-container-id-3 div.sk-estimator input.sk-toggleable__control:checked~label.sk-toggleable__label {\n",
       "  /* unfitted */\n",
       "  background-color: var(--sklearn-color-unfitted-level-2);\n",
       "}\n",
       "\n",
       "#sk-container-id-3 div.sk-estimator.fitted input.sk-toggleable__control:checked~label.sk-toggleable__label {\n",
       "  /* fitted */\n",
       "  background-color: var(--sklearn-color-fitted-level-2);\n",
       "}\n",
       "\n",
       "#sk-container-id-3 div.sk-label label.sk-toggleable__label,\n",
       "#sk-container-id-3 div.sk-label label {\n",
       "  /* The background is the default theme color */\n",
       "  color: var(--sklearn-color-text-on-default-background);\n",
       "}\n",
       "\n",
       "/* On hover, darken the color of the background */\n",
       "#sk-container-id-3 div.sk-label:hover label.sk-toggleable__label {\n",
       "  color: var(--sklearn-color-text);\n",
       "  background-color: var(--sklearn-color-unfitted-level-2);\n",
       "}\n",
       "\n",
       "/* Label box, darken color on hover, fitted */\n",
       "#sk-container-id-3 div.sk-label.fitted:hover label.sk-toggleable__label.fitted {\n",
       "  color: var(--sklearn-color-text);\n",
       "  background-color: var(--sklearn-color-fitted-level-2);\n",
       "}\n",
       "\n",
       "/* Estimator label */\n",
       "\n",
       "#sk-container-id-3 div.sk-label label {\n",
       "  font-family: monospace;\n",
       "  font-weight: bold;\n",
       "  display: inline-block;\n",
       "  line-height: 1.2em;\n",
       "}\n",
       "\n",
       "#sk-container-id-3 div.sk-label-container {\n",
       "  text-align: center;\n",
       "}\n",
       "\n",
       "/* Estimator-specific */\n",
       "#sk-container-id-3 div.sk-estimator {\n",
       "  font-family: monospace;\n",
       "  border: 1px dotted var(--sklearn-color-border-box);\n",
       "  border-radius: 0.25em;\n",
       "  box-sizing: border-box;\n",
       "  margin-bottom: 0.5em;\n",
       "  /* unfitted */\n",
       "  background-color: var(--sklearn-color-unfitted-level-0);\n",
       "}\n",
       "\n",
       "#sk-container-id-3 div.sk-estimator.fitted {\n",
       "  /* fitted */\n",
       "  background-color: var(--sklearn-color-fitted-level-0);\n",
       "}\n",
       "\n",
       "/* on hover */\n",
       "#sk-container-id-3 div.sk-estimator:hover {\n",
       "  /* unfitted */\n",
       "  background-color: var(--sklearn-color-unfitted-level-2);\n",
       "}\n",
       "\n",
       "#sk-container-id-3 div.sk-estimator.fitted:hover {\n",
       "  /* fitted */\n",
       "  background-color: var(--sklearn-color-fitted-level-2);\n",
       "}\n",
       "\n",
       "/* Specification for estimator info (e.g. \"i\" and \"?\") */\n",
       "\n",
       "/* Common style for \"i\" and \"?\" */\n",
       "\n",
       ".sk-estimator-doc-link,\n",
       "a:link.sk-estimator-doc-link,\n",
       "a:visited.sk-estimator-doc-link {\n",
       "  float: right;\n",
       "  font-size: smaller;\n",
       "  line-height: 1em;\n",
       "  font-family: monospace;\n",
       "  background-color: var(--sklearn-color-background);\n",
       "  border-radius: 1em;\n",
       "  height: 1em;\n",
       "  width: 1em;\n",
       "  text-decoration: none !important;\n",
       "  margin-left: 1ex;\n",
       "  /* unfitted */\n",
       "  border: var(--sklearn-color-unfitted-level-1) 1pt solid;\n",
       "  color: var(--sklearn-color-unfitted-level-1);\n",
       "}\n",
       "\n",
       ".sk-estimator-doc-link.fitted,\n",
       "a:link.sk-estimator-doc-link.fitted,\n",
       "a:visited.sk-estimator-doc-link.fitted {\n",
       "  /* fitted */\n",
       "  border: var(--sklearn-color-fitted-level-1) 1pt solid;\n",
       "  color: var(--sklearn-color-fitted-level-1);\n",
       "}\n",
       "\n",
       "/* On hover */\n",
       "div.sk-estimator:hover .sk-estimator-doc-link:hover,\n",
       ".sk-estimator-doc-link:hover,\n",
       "div.sk-label-container:hover .sk-estimator-doc-link:hover,\n",
       ".sk-estimator-doc-link:hover {\n",
       "  /* unfitted */\n",
       "  background-color: var(--sklearn-color-unfitted-level-3);\n",
       "  color: var(--sklearn-color-background);\n",
       "  text-decoration: none;\n",
       "}\n",
       "\n",
       "div.sk-estimator.fitted:hover .sk-estimator-doc-link.fitted:hover,\n",
       ".sk-estimator-doc-link.fitted:hover,\n",
       "div.sk-label-container:hover .sk-estimator-doc-link.fitted:hover,\n",
       ".sk-estimator-doc-link.fitted:hover {\n",
       "  /* fitted */\n",
       "  background-color: var(--sklearn-color-fitted-level-3);\n",
       "  color: var(--sklearn-color-background);\n",
       "  text-decoration: none;\n",
       "}\n",
       "\n",
       "/* Span, style for the box shown on hovering the info icon */\n",
       ".sk-estimator-doc-link span {\n",
       "  display: none;\n",
       "  z-index: 9999;\n",
       "  position: relative;\n",
       "  font-weight: normal;\n",
       "  right: .2ex;\n",
       "  padding: .5ex;\n",
       "  margin: .5ex;\n",
       "  width: min-content;\n",
       "  min-width: 20ex;\n",
       "  max-width: 50ex;\n",
       "  color: var(--sklearn-color-text);\n",
       "  box-shadow: 2pt 2pt 4pt #999;\n",
       "  /* unfitted */\n",
       "  background: var(--sklearn-color-unfitted-level-0);\n",
       "  border: .5pt solid var(--sklearn-color-unfitted-level-3);\n",
       "}\n",
       "\n",
       ".sk-estimator-doc-link.fitted span {\n",
       "  /* fitted */\n",
       "  background: var(--sklearn-color-fitted-level-0);\n",
       "  border: var(--sklearn-color-fitted-level-3);\n",
       "}\n",
       "\n",
       ".sk-estimator-doc-link:hover span {\n",
       "  display: block;\n",
       "}\n",
       "\n",
       "/* \"?\"-specific style due to the `<a>` HTML tag */\n",
       "\n",
       "#sk-container-id-3 a.estimator_doc_link {\n",
       "  float: right;\n",
       "  font-size: 1rem;\n",
       "  line-height: 1em;\n",
       "  font-family: monospace;\n",
       "  background-color: var(--sklearn-color-background);\n",
       "  border-radius: 1rem;\n",
       "  height: 1rem;\n",
       "  width: 1rem;\n",
       "  text-decoration: none;\n",
       "  /* unfitted */\n",
       "  color: var(--sklearn-color-unfitted-level-1);\n",
       "  border: var(--sklearn-color-unfitted-level-1) 1pt solid;\n",
       "}\n",
       "\n",
       "#sk-container-id-3 a.estimator_doc_link.fitted {\n",
       "  /* fitted */\n",
       "  border: var(--sklearn-color-fitted-level-1) 1pt solid;\n",
       "  color: var(--sklearn-color-fitted-level-1);\n",
       "}\n",
       "\n",
       "/* On hover */\n",
       "#sk-container-id-3 a.estimator_doc_link:hover {\n",
       "  /* unfitted */\n",
       "  background-color: var(--sklearn-color-unfitted-level-3);\n",
       "  color: var(--sklearn-color-background);\n",
       "  text-decoration: none;\n",
       "}\n",
       "\n",
       "#sk-container-id-3 a.estimator_doc_link.fitted:hover {\n",
       "  /* fitted */\n",
       "  background-color: var(--sklearn-color-fitted-level-3);\n",
       "}\n",
       "</style><div id=\"sk-container-id-3\" class=\"sk-top-container\"><div class=\"sk-text-repr-fallback\"><pre>RandomForestClassifier(random_state=42)</pre><b>In a Jupyter environment, please rerun this cell to show the HTML representation or trust the notebook. <br />On GitHub, the HTML representation is unable to render, please try loading this page with nbviewer.org.</b></div><div class=\"sk-container\" hidden><div class=\"sk-item\"><div class=\"sk-estimator fitted sk-toggleable\"><input class=\"sk-toggleable__control sk-hidden--visually\" id=\"sk-estimator-id-3\" type=\"checkbox\" checked><label for=\"sk-estimator-id-3\" class=\"sk-toggleable__label fitted sk-toggleable__label-arrow fitted\">&nbsp;&nbsp;RandomForestClassifier<a class=\"sk-estimator-doc-link fitted\" rel=\"noreferrer\" target=\"_blank\" href=\"https://scikit-learn.org/1.4/modules/generated/sklearn.ensemble.RandomForestClassifier.html\">?<span>Documentation for RandomForestClassifier</span></a><span class=\"sk-estimator-doc-link fitted\">i<span>Fitted</span></span></label><div class=\"sk-toggleable__content fitted\"><pre>RandomForestClassifier(random_state=42)</pre></div> </div></div></div></div>"
      ],
      "text/plain": [
       "RandomForestClassifier(random_state=42)"
      ]
     },
     "execution_count": 139,
     "metadata": {},
     "output_type": "execute_result"
    }
   ],
   "source": [
    "rf_classifier.fit(X_trainem, y_train)"
   ]
  },
  {
   "cell_type": "code",
   "execution_count": 140,
   "id": "01c549dd-f194-4a59-a93d-b2c7b2eb3baf",
   "metadata": {
    "tags": []
   },
   "outputs": [
    {
     "name": "stdout",
     "output_type": "stream",
     "text": [
      "\n",
      "Classification Report:\n",
      "              precision    recall  f1-score   support\n",
      "\n",
      "           0       0.88      1.00      0.93       882\n",
      "           1       0.97      0.74      0.84       144\n",
      "           2       1.00      0.24      0.39        49\n",
      "           3       1.00      0.39      0.56       107\n",
      "           4       0.39      0.76      0.52       215\n",
      "           5       0.79      0.84      0.81        75\n",
      "           6       0.20      0.08      0.12        12\n",
      "           7       0.80      0.03      0.06       259\n",
      "           8       0.79      0.99      0.88       331\n",
      "           9       1.00      0.24      0.38        59\n",
      "          10       0.91      0.97      0.94       313\n",
      "          11       0.42      0.86      0.57        37\n",
      "          12       0.43      0.13      0.20        47\n",
      "          13       1.00      0.25      0.40         4\n",
      "\n",
      "    accuracy                           0.77      2534\n",
      "   macro avg       0.76      0.54      0.54      2534\n",
      "weighted avg       0.82      0.77      0.73      2534\n",
      "\n"
     ]
    }
   ],
   "source": [
    "y_pred = rf_classifier.predict(X_testem)\n",
    "# Evaluate the model\n",
    "print(\"\\nClassification Report:\")\n",
    "print(classification_report(y_test, y_pred))\n"
   ]
  },
  {
   "cell_type": "code",
   "execution_count": 141,
   "id": "b1aa93f4-4654-4ebe-99f6-82def72088b8",
   "metadata": {
    "tags": []
   },
   "outputs": [
    {
     "name": "stdout",
     "output_type": "stream",
     "text": [
      "Accuracy: 0.7738752959747435\n"
     ]
    }
   ],
   "source": [
    "# Evaluate accuracy\n",
    "accuracy = accuracy_score(y_test, y_pred)\n",
    "print(\"Accuracy:\", accuracy)"
   ]
  },
  {
   "cell_type": "markdown",
   "id": "7999fefc-27ac-4929-914b-1a873b90a2cd",
   "metadata": {
    "tags": []
   },
   "source": [
    " ## With Embedding we got \n",
    "\n",
    "    * precision  .82`\n",
    "    * recall     .77 \n",
    "    * f1-score   .73\n",
    "    * accuracy   .77"
   ]
  },
  {
   "cell_type": "markdown",
   "id": "84c1f409-9451-454f-8558-cd7968774fea",
   "metadata": {},
   "source": [
    "  ### Now We will use  TF-IDF vectorizer"
   ]
  },
  {
   "cell_type": "code",
   "execution_count": 142,
   "id": "1d79021c-4ab0-43ba-ac80-ccdce75829b0",
   "metadata": {
    "tags": []
   },
   "outputs": [
    {
     "name": "stdout",
     "output_type": "stream",
     "text": [
      "\n",
      "Classification Report:\n",
      "              precision    recall  f1-score   support\n",
      "\n",
      "           0       0.94      0.99      0.96       882\n",
      "           1       1.00      0.82      0.90       144\n",
      "           2       0.81      0.88      0.84        49\n",
      "           3       1.00      0.54      0.70       107\n",
      "           4       0.37      0.69      0.48       215\n",
      "           5       0.92      0.87      0.89        75\n",
      "           6       0.00      0.00      0.00        12\n",
      "           7       0.94      0.06      0.12       259\n",
      "           8       0.95      0.99      0.97       331\n",
      "           9       1.00      0.73      0.84        59\n",
      "          10       0.83      1.00      0.90       313\n",
      "          11       0.31      0.81      0.44        37\n",
      "          12       0.88      0.15      0.25        47\n",
      "          13       1.00      0.75      0.86         4\n",
      "\n",
      "    accuracy                           0.81      2534\n",
      "   macro avg       0.78      0.66      0.65      2534\n",
      "weighted avg       0.87      0.81      0.78      2534\n",
      "\n"
     ]
    }
   ],
   "source": [
    "# Initialize TF-IDF vectorizer\n",
    "tfidf_vectorizer = TfidfVectorizer()\n",
    "\n",
    "# Fit and transform the training data\n",
    "X_train_tfidf = tfidf_vectorizer.fit_transform(X_train)\n",
    "\n",
    "# Transform the test data\n",
    "X_test_tfidf = tfidf_vectorizer.transform(X_test)\n",
    "\n",
    "\n",
    "rf_classifier.fit(X_train_tfidf, y_train)\n",
    "y_pred = rf_classifier.predict(X_test_tfidf)\n",
    "# Evaluate the model\n",
    "print(\"\\nClassification Report:\")\n",
    "print(classification_report(y_test, y_pred))\n"
   ]
  },
  {
   "cell_type": "code",
   "execution_count": 143,
   "id": "3f44edd3-f20a-4db1-ae86-2a59c51580bf",
   "metadata": {
    "tags": []
   },
   "outputs": [
    {
     "name": "stdout",
     "output_type": "stream",
     "text": [
      "Accuracy: 0.8082083662194159\n"
     ]
    }
   ],
   "source": [
    "# Evaluate accuracy\n",
    "accuracy = accuracy_score(y_test, y_pred)\n",
    "print(\"Accuracy:\", accuracy)"
   ]
  },
  {
   "cell_type": "markdown",
   "id": "67246642-70fb-42f1-ac49-4c2f7feb24f2",
   "metadata": {},
   "source": [
    "### Here we have accuracy of .81 ,thus better than embedding\n",
    "#### We will use  TF-IDF vectorizer in our other models also."
   ]
  },
  {
   "cell_type": "code",
   "execution_count": 144,
   "id": "8748e26e-d662-499b-a00f-acd998b6e7a0",
   "metadata": {
    "tags": []
   },
   "outputs": [],
   "source": [
    "import pandas as pd\n",
    "from sklearn.model_selection import train_test_split, GridSearchCV,RandomizedSearchCV\n",
    "from sklearn.feature_extraction.text import TfidfVectorizer\n",
    "from sklearn.ensemble import RandomForestClassifier\n",
    "from sklearn.metrics import classification_report\n",
    "from sklearn.metrics import confusion_matrix, roc_curve, auc,roc_auc_score"
   ]
  },
  {
   "cell_type": "markdown",
   "id": "6b6b9a61-466a-4bb1-b234-436b5fe8a16e",
   "metadata": {
    "tags": []
   },
   "source": [
    "## Confusion Matrix"
   ]
  },
  {
   "cell_type": "code",
   "execution_count": 145,
   "id": "7efd2758-e7e3-4db8-80ed-b83eac37f9b9",
   "metadata": {
    "tags": []
   },
   "outputs": [
    {
     "data": {
      "image/png": "[encoded data removed]",
      "text/plain": [
       "<Figure size 800x600 with 2 Axes>"
      ]
     },
     "metadata": {},
     "output_type": "display_data"
    }
   ],
   "source": [
    "conf_matrix = confusion_matrix(y_test, y_pred)\n",
    "plt.figure(figsize=(8, 6))\n",
    "sns.heatmap(conf_matrix, annot=True, fmt='d', cmap='Blues')\n",
    "plt.title('Confusion Matrix')\n",
    "plt.xlabel('Predicted Labels')\n",
    "plt.ylabel('True Labels')\n",
    "plt.show()\n"
   ]
  },
  {
   "cell_type": "markdown",
   "id": "3ff1e2ff-1d19-472f-b5e1-28e7577a5987",
   "metadata": {
    "tags": []
   },
   "source": [
    "## Plotting ROC Curve"
   ]
  },
  {
   "cell_type": "code",
   "execution_count": 146,
   "id": "0734b04a-cfb6-49a8-b251-ae79ff218c9b",
   "metadata": {
    "tags": []
   },
   "outputs": [
    {
     "data": {
      "image/png": "[encoded data removed]",
      "text/plain": [
       "<Figure size 800x600 with 1 Axes>"
      ]
     },
     "metadata": {},
     "output_type": "display_data"
    }
   ],
   "source": [
    "# Plotting ROC Curve\n",
    "y_probs = rf_classifier.predict_proba(X_test_tfidf)\n",
    "# Compute ROC curve and ROC area for each class\n",
    "fpr = dict()\n",
    "tpr = dict()\n",
    "roc_auc = dict()\n",
    "for i in range(len(y_probs[0])):\n",
    "    fpr[i], tpr[i], _ = roc_curve(y_test == i, y_probs[:, i])\n",
    "    roc_auc[i] = auc(fpr[i], tpr[i])\n",
    "\n",
    "# Plot ROC curves\n",
    "plt.figure(figsize=(8, 6))\n",
    "for i in range(len(y_probs[0])):\n",
    "    plt.plot(fpr[i], tpr[i], lw=2, label='ROC curve (class {}) (area = {:0.2f})'.format(i, roc_auc[i]))\n",
    "\n",
    "plt.plot([0, 1], [0, 1], color='navy', lw=2, linestyle='--')\n",
    "plt.xlim([0.0, 1.0])\n",
    "plt.ylim([0.0, 1.05])\n",
    "plt.xlabel('False Positive Rate')\n",
    "plt.ylabel('True Positive Rate')\n",
    "plt.title('Receiver Operating Characteristic (ROC) Curve for Multi-class')\n",
    "plt.legend(loc=\"lower right\")\n",
    "plt.show()"
   ]
  },
  {
   "cell_type": "markdown",
   "id": "e0b88301-9225-48dd-bd81-c8a5bc2634c6",
   "metadata": {},
   "source": [
    "## Hyperparameter Tunning with Grid search"
   ]
  },
  {
   "cell_type": "code",
   "execution_count": 147,
   "id": "01d50e9a-a3f0-44cb-99ba-54c0e74b63c9",
   "metadata": {
    "tags": []
   },
   "outputs": [
    {
     "name": "stdout",
     "output_type": "stream",
     "text": [
      "Fitting 5 folds for each of 81 candidates, totalling 405 fits\n",
      "Best Hyperparameters: {'criterion': 'entropy', 'max_depth': None, 'min_samples_leaf': 1, 'min_samples_split': 2, 'n_estimators': 200}\n",
      "\n",
      "Classification Report:\n",
      "              precision    recall  f1-score   support\n",
      "\n",
      "           0       0.93      0.99      0.96       882\n",
      "           1       1.00      0.76      0.86       144\n",
      "           2       0.86      0.76      0.80        49\n",
      "           3       1.00      0.57      0.73       107\n",
      "           4       0.41      0.71      0.52       215\n",
      "           5       0.93      0.88      0.90        75\n",
      "           6       0.50      0.08      0.14        12\n",
      "           7       0.90      0.07      0.13       259\n",
      "           8       0.87      0.99      0.93       331\n",
      "           9       1.00      0.76      0.87        59\n",
      "          10       0.83      1.00      0.91       313\n",
      "          11       0.32      0.92      0.48        37\n",
      "          12       0.55      0.13      0.21        47\n",
      "          13       1.00      0.75      0.86         4\n",
      "\n",
      "    accuracy                           0.81      2534\n",
      "   macro avg       0.79      0.67      0.66      2534\n",
      "weighted avg       0.85      0.81      0.78      2534\n",
      "\n"
     ]
    }
   ],
   "source": [
    "\n",
    "\n",
    "\n",
    "\n",
    "# Define hyperparameters grid for tuning\n",
    "param_grid = {\n",
    "    'n_estimators': [50, 100, 200],\n",
    "    'criterion':['entropy'],\n",
    "    'max_depth': [None, 10, 20],\n",
    "    'min_samples_split': [2, 5, 10],\n",
    "    'min_samples_leaf': [1, 2, 4]\n",
    "}\n",
    "\n",
    "# Initialize GridSearchCV for hyperparameter tuning\n",
    "grid_search = GridSearchCV(estimator=rf_classifier, param_grid=param_grid, cv=5, scoring='accuracy', verbose=1)\n",
    "\n",
    "# Perform hyperparameter tuning\n",
    "grid_search.fit(X_train_tfidf, y_train)\n",
    "\n",
    "# Get best hyperparameters\n",
    "best_params = grid_search.best_params_\n",
    "print(\"Best Hyperparameters:\", best_params)\n",
    "\n",
    "# Train RandomForestClassifier with best hyperparameters\n",
    "best_rf_classifier = RandomForestClassifier(**best_params, random_state=42)\n",
    "best_rf_classifier.fit(X_train_tfidf, y_train)\n",
    "\n",
    "# Predictions\n",
    "y_pred = best_rf_classifier.predict(X_test_tfidf)\n",
    "\n",
    "# Evaluate the model\n",
    "print(\"\\nClassification Report:\")\n",
    "print(classification_report(y_test, y_pred))\n"
   ]
  },
  {
   "cell_type": "code",
   "execution_count": 148,
   "id": "8d88d882-2a36-4f8e-b19a-4e4618fd6fcc",
   "metadata": {
    "tags": []
   },
   "outputs": [
    {
     "name": "stdout",
     "output_type": "stream",
     "text": [
      "Accuracy: 0.8082083662194159\n"
     ]
    }
   ],
   "source": [
    "accuracy = accuracy_score(y_test, y_pred)\n",
    "print(\"Accuracy:\", accuracy)\n",
    "\n"
   ]
  },
  {
   "cell_type": "markdown",
   "id": "4899b2f7-267f-42bb-a696-ac87ef0069ab",
   "metadata": {
    "tags": []
   },
   "source": [
    "#### Key Observations--\n",
    "Accuracy with Hyperparameter Tunning --> 0.8082083662194159\n",
    "\n",
    "Accuracy Without Hyperparameter Tuning -->  0.8082083662194159  \n",
    "\n",
    "We can observe their is not much difference between the two."
   ]
  },
  {
   "cell_type": "markdown",
   "id": "3ffadf90-3a3a-4cbd-b2da-16cd92446135",
   "metadata": {},
   "source": [
    "#  Support Vector Machine"
   ]
  },
  {
   "cell_type": "code",
   "execution_count": 150,
   "id": "653ab7b2-33e2-44a7-a590-391ecd6ff427",
   "metadata": {
    "tags": []
   },
   "outputs": [
    {
     "data": {
      "text/html": [
       "<style>#sk-container-id-4 {\n",
       "  /* Definition of color scheme common for light and dark mode */\n",
       "  --sklearn-color-text: black;\n",
       "  --sklearn-color-line: gray;\n",
       "  /* Definition of color scheme for unfitted estimators */\n",
       "  --sklearn-color-unfitted-level-0: #fff5e6;\n",
       "  --sklearn-color-unfitted-level-1: #f6e4d2;\n",
       "  --sklearn-color-unfitted-level-2: #ffe0b3;\n",
       "  --sklearn-color-unfitted-level-3: chocolate;\n",
       "  /* Definition of color scheme for fitted estimators */\n",
       "  --sklearn-color-fitted-level-0: #f0f8ff;\n",
       "  --sklearn-color-fitted-level-1: #d4ebff;\n",
       "  --sklearn-color-fitted-level-2: #b3dbfd;\n",
       "  --sklearn-color-fitted-level-3: cornflowerblue;\n",
       "\n",
       "  /* Specific color for light theme */\n",
       "  --sklearn-color-text-on-default-background: var(--sg-text-color, var(--theme-code-foreground, var(--jp-content-font-color1, black)));\n",
       "  --sklearn-color-background: var(--sg-background-color, var(--theme-background, var(--jp-layout-color0, white)));\n",
       "  --sklearn-color-border-box: var(--sg-text-color, var(--theme-code-foreground, var(--jp-content-font-color1, black)));\n",
       "  --sklearn-color-icon: #696969;\n",
       "\n",
       "  @media (prefers-color-scheme: dark) {\n",
       "    /* Redefinition of color scheme for dark theme */\n",
       "    --sklearn-color-text-on-default-background: var(--sg-text-color, var(--theme-code-foreground, var(--jp-content-font-color1, white)));\n",
       "    --sklearn-color-background: var(--sg-background-color, var(--theme-background, var(--jp-layout-color0, #111)));\n",
       "    --sklearn-color-border-box: var(--sg-text-color, var(--theme-code-foreground, var(--jp-content-font-color1, white)));\n",
       "    --sklearn-color-icon: #878787;\n",
       "  }\n",
       "}\n",
       "\n",
       "#sk-container-id-4 {\n",
       "  color: var(--sklearn-color-text);\n",
       "}\n",
       "\n",
       "#sk-container-id-4 pre {\n",
       "  padding: 0;\n",
       "}\n",
       "\n",
       "#sk-container-id-4 input.sk-hidden--visually {\n",
       "  border: 0;\n",
       "  clip: rect(1px 1px 1px 1px);\n",
       "  clip: rect(1px, 1px, 1px, 1px);\n",
       "  height: 1px;\n",
       "  margin: -1px;\n",
       "  overflow: hidden;\n",
       "  padding: 0;\n",
       "  position: absolute;\n",
       "  width: 1px;\n",
       "}\n",
       "\n",
       "#sk-container-id-4 div.sk-dashed-wrapped {\n",
       "  border: 1px dashed var(--sklearn-color-line);\n",
       "  margin: 0 0.4em 0.5em 0.4em;\n",
       "  box-sizing: border-box;\n",
       "  padding-bottom: 0.4em;\n",
       "  background-color: var(--sklearn-color-background);\n",
       "}\n",
       "\n",
       "#sk-container-id-4 div.sk-container {\n",
       "  /* jupyter's `normalize.less` sets `[hidden] { display: none; }`\n",
       "     but bootstrap.min.css set `[hidden] { display: none !important; }`\n",
       "     so we also need the `!important` here to be able to override the\n",
       "     default hidden behavior on the sphinx rendered scikit-learn.org.\n",
       "     See: https://github.com/scikit-learn/scikit-learn/issues/21755 */\n",
       "  display: inline-block !important;\n",
       "  position: relative;\n",
       "}\n",
       "\n",
       "#sk-container-id-4 div.sk-text-repr-fallback {\n",
       "  display: none;\n",
       "}\n",
       "\n",
       "div.sk-parallel-item,\n",
       "div.sk-serial,\n",
       "div.sk-item {\n",
       "  /* draw centered vertical line to link estimators */\n",
       "  background-image: linear-gradient(var(--sklearn-color-text-on-default-background), var(--sklearn-color-text-on-default-background));\n",
       "  background-size: 2px 100%;\n",
       "  background-repeat: no-repeat;\n",
       "  background-position: center center;\n",
       "}\n",
       "\n",
       "/* Parallel-specific style estimator block */\n",
       "\n",
       "#sk-container-id-4 div.sk-parallel-item::after {\n",
       "  content: \"\";\n",
       "  width: 100%;\n",
       "  border-bottom: 2px solid var(--sklearn-color-text-on-default-background);\n",
       "  flex-grow: 1;\n",
       "}\n",
       "\n",
       "#sk-container-id-4 div.sk-parallel {\n",
       "  display: flex;\n",
       "  align-items: stretch;\n",
       "  justify-content: center;\n",
       "  background-color: var(--sklearn-color-background);\n",
       "  position: relative;\n",
       "}\n",
       "\n",
       "#sk-container-id-4 div.sk-parallel-item {\n",
       "  display: flex;\n",
       "  flex-direction: column;\n",
       "}\n",
       "\n",
       "#sk-container-id-4 div.sk-parallel-item:first-child::after {\n",
       "  align-self: flex-end;\n",
       "  width: 50%;\n",
       "}\n",
       "\n",
       "#sk-container-id-4 div.sk-parallel-item:last-child::after {\n",
       "  align-self: flex-start;\n",
       "  width: 50%;\n",
       "}\n",
       "\n",
       "#sk-container-id-4 div.sk-parallel-item:only-child::after {\n",
       "  width: 0;\n",
       "}\n",
       "\n",
       "/* Serial-specific style estimator block */\n",
       "\n",
       "#sk-container-id-4 div.sk-serial {\n",
       "  display: flex;\n",
       "  flex-direction: column;\n",
       "  align-items: center;\n",
       "  background-color: var(--sklearn-color-background);\n",
       "  padding-right: 1em;\n",
       "  padding-left: 1em;\n",
       "}\n",
       "\n",
       "\n",
       "/* Toggleable style: style used for estimator/Pipeline/ColumnTransformer box that is\n",
       "clickable and can be expanded/collapsed.\n",
       "- Pipeline and ColumnTransformer use this feature and define the default style\n",
       "- Estimators will overwrite some part of the style using the `sk-estimator` class\n",
       "*/\n",
       "\n",
       "/* Pipeline and ColumnTransformer style (default) */\n",
       "\n",
       "#sk-container-id-4 div.sk-toggleable {\n",
       "  /* Default theme specific background. It is overwritten whether we have a\n",
       "  specific estimator or a Pipeline/ColumnTransformer */\n",
       "  background-color: var(--sklearn-color-background);\n",
       "}\n",
       "\n",
       "/* Toggleable label */\n",
       "#sk-container-id-4 label.sk-toggleable__label {\n",
       "  cursor: pointer;\n",
       "  display: block;\n",
       "  width: 100%;\n",
       "  margin-bottom: 0;\n",
       "  padding: 0.5em;\n",
       "  box-sizing: border-box;\n",
       "  text-align: center;\n",
       "}\n",
       "\n",
       "#sk-container-id-4 label.sk-toggleable__label-arrow:before {\n",
       "  /* Arrow on the left of the label */\n",
       "  content: \"▸\";\n",
       "  float: left;\n",
       "  margin-right: 0.25em;\n",
       "  color: var(--sklearn-color-icon);\n",
       "}\n",
       "\n",
       "#sk-container-id-4 label.sk-toggleable__label-arrow:hover:before {\n",
       "  color: var(--sklearn-color-text);\n",
       "}\n",
       "\n",
       "/* Toggleable content - dropdown */\n",
       "\n",
       "#sk-container-id-4 div.sk-toggleable__content {\n",
       "  max-height: 0;\n",
       "  max-width: 0;\n",
       "  overflow: hidden;\n",
       "  text-align: left;\n",
       "  /* unfitted */\n",
       "  background-color: var(--sklearn-color-unfitted-level-0);\n",
       "}\n",
       "\n",
       "#sk-container-id-4 div.sk-toggleable__content.fitted {\n",
       "  /* fitted */\n",
       "  background-color: var(--sklearn-color-fitted-level-0);\n",
       "}\n",
       "\n",
       "#sk-container-id-4 div.sk-toggleable__content pre {\n",
       "  margin: 0.2em;\n",
       "  border-radius: 0.25em;\n",
       "  color: var(--sklearn-color-text);\n",
       "  /* unfitted */\n",
       "  background-color: var(--sklearn-color-unfitted-level-0);\n",
       "}\n",
       "\n",
       "#sk-container-id-4 div.sk-toggleable__content.fitted pre {\n",
       "  /* unfitted */\n",
       "  background-color: var(--sklearn-color-fitted-level-0);\n",
       "}\n",
       "\n",
       "#sk-container-id-4 input.sk-toggleable__control:checked~div.sk-toggleable__content {\n",
       "  /* Expand drop-down */\n",
       "  max-height: 200px;\n",
       "  max-width: 100%;\n",
       "  overflow: auto;\n",
       "}\n",
       "\n",
       "#sk-container-id-4 input.sk-toggleable__control:checked~label.sk-toggleable__label-arrow:before {\n",
       "  content: \"▾\";\n",
       "}\n",
       "\n",
       "/* Pipeline/ColumnTransformer-specific style */\n",
       "\n",
       "#sk-container-id-4 div.sk-label input.sk-toggleable__control:checked~label.sk-toggleable__label {\n",
       "  color: var(--sklearn-color-text);\n",
       "  background-color: var(--sklearn-color-unfitted-level-2);\n",
       "}\n",
       "\n",
       "#sk-container-id-4 div.sk-label.fitted input.sk-toggleable__control:checked~label.sk-toggleable__label {\n",
       "  background-color: var(--sklearn-color-fitted-level-2);\n",
       "}\n",
       "\n",
       "/* Estimator-specific style */\n",
       "\n",
       "/* Colorize estimator box */\n",
       "#sk-container-id-4 div.sk-estimator input.sk-toggleable__control:checked~label.sk-toggleable__label {\n",
       "  /* unfitted */\n",
       "  background-color: var(--sklearn-color-unfitted-level-2);\n",
       "}\n",
       "\n",
       "#sk-container-id-4 div.sk-estimator.fitted input.sk-toggleable__control:checked~label.sk-toggleable__label {\n",
       "  /* fitted */\n",
       "  background-color: var(--sklearn-color-fitted-level-2);\n",
       "}\n",
       "\n",
       "#sk-container-id-4 div.sk-label label.sk-toggleable__label,\n",
       "#sk-container-id-4 div.sk-label label {\n",
       "  /* The background is the default theme color */\n",
       "  color: var(--sklearn-color-text-on-default-background);\n",
       "}\n",
       "\n",
       "/* On hover, darken the color of the background */\n",
       "#sk-container-id-4 div.sk-label:hover label.sk-toggleable__label {\n",
       "  color: var(--sklearn-color-text);\n",
       "  background-color: var(--sklearn-color-unfitted-level-2);\n",
       "}\n",
       "\n",
       "/* Label box, darken color on hover, fitted */\n",
       "#sk-container-id-4 div.sk-label.fitted:hover label.sk-toggleable__label.fitted {\n",
       "  color: var(--sklearn-color-text);\n",
       "  background-color: var(--sklearn-color-fitted-level-2);\n",
       "}\n",
       "\n",
       "/* Estimator label */\n",
       "\n",
       "#sk-container-id-4 div.sk-label label {\n",
       "  font-family: monospace;\n",
       "  font-weight: bold;\n",
       "  display: inline-block;\n",
       "  line-height: 1.2em;\n",
       "}\n",
       "\n",
       "#sk-container-id-4 div.sk-label-container {\n",
       "  text-align: center;\n",
       "}\n",
       "\n",
       "/* Estimator-specific */\n",
       "#sk-container-id-4 div.sk-estimator {\n",
       "  font-family: monospace;\n",
       "  border: 1px dotted var(--sklearn-color-border-box);\n",
       "  border-radius: 0.25em;\n",
       "  box-sizing: border-box;\n",
       "  margin-bottom: 0.5em;\n",
       "  /* unfitted */\n",
       "  background-color: var(--sklearn-color-unfitted-level-0);\n",
       "}\n",
       "\n",
       "#sk-container-id-4 div.sk-estimator.fitted {\n",
       "  /* fitted */\n",
       "  background-color: var(--sklearn-color-fitted-level-0);\n",
       "}\n",
       "\n",
       "/* on hover */\n",
       "#sk-container-id-4 div.sk-estimator:hover {\n",
       "  /* unfitted */\n",
       "  background-color: var(--sklearn-color-unfitted-level-2);\n",
       "}\n",
       "\n",
       "#sk-container-id-4 div.sk-estimator.fitted:hover {\n",
       "  /* fitted */\n",
       "  background-color: var(--sklearn-color-fitted-level-2);\n",
       "}\n",
       "\n",
       "/* Specification for estimator info (e.g. \"i\" and \"?\") */\n",
       "\n",
       "/* Common style for \"i\" and \"?\" */\n",
       "\n",
       ".sk-estimator-doc-link,\n",
       "a:link.sk-estimator-doc-link,\n",
       "a:visited.sk-estimator-doc-link {\n",
       "  float: right;\n",
       "  font-size: smaller;\n",
       "  line-height: 1em;\n",
       "  font-family: monospace;\n",
       "  background-color: var(--sklearn-color-background);\n",
       "  border-radius: 1em;\n",
       "  height: 1em;\n",
       "  width: 1em;\n",
       "  text-decoration: none !important;\n",
       "  margin-left: 1ex;\n",
       "  /* unfitted */\n",
       "  border: var(--sklearn-color-unfitted-level-1) 1pt solid;\n",
       "  color: var(--sklearn-color-unfitted-level-1);\n",
       "}\n",
       "\n",
       ".sk-estimator-doc-link.fitted,\n",
       "a:link.sk-estimator-doc-link.fitted,\n",
       "a:visited.sk-estimator-doc-link.fitted {\n",
       "  /* fitted */\n",
       "  border: var(--sklearn-color-fitted-level-1) 1pt solid;\n",
       "  color: var(--sklearn-color-fitted-level-1);\n",
       "}\n",
       "\n",
       "/* On hover */\n",
       "div.sk-estimator:hover .sk-estimator-doc-link:hover,\n",
       ".sk-estimator-doc-link:hover,\n",
       "div.sk-label-container:hover .sk-estimator-doc-link:hover,\n",
       ".sk-estimator-doc-link:hover {\n",
       "  /* unfitted */\n",
       "  background-color: var(--sklearn-color-unfitted-level-3);\n",
       "  color: var(--sklearn-color-background);\n",
       "  text-decoration: none;\n",
       "}\n",
       "\n",
       "div.sk-estimator.fitted:hover .sk-estimator-doc-link.fitted:hover,\n",
       ".sk-estimator-doc-link.fitted:hover,\n",
       "div.sk-label-container:hover .sk-estimator-doc-link.fitted:hover,\n",
       ".sk-estimator-doc-link.fitted:hover {\n",
       "  /* fitted */\n",
       "  background-color: var(--sklearn-color-fitted-level-3);\n",
       "  color: var(--sklearn-color-background);\n",
       "  text-decoration: none;\n",
       "}\n",
       "\n",
       "/* Span, style for the box shown on hovering the info icon */\n",
       ".sk-estimator-doc-link span {\n",
       "  display: none;\n",
       "  z-index: 9999;\n",
       "  position: relative;\n",
       "  font-weight: normal;\n",
       "  right: .2ex;\n",
       "  padding: .5ex;\n",
       "  margin: .5ex;\n",
       "  width: min-content;\n",
       "  min-width: 20ex;\n",
       "  max-width: 50ex;\n",
       "  color: var(--sklearn-color-text);\n",
       "  box-shadow: 2pt 2pt 4pt #999;\n",
       "  /* unfitted */\n",
       "  background: var(--sklearn-color-unfitted-level-0);\n",
       "  border: .5pt solid var(--sklearn-color-unfitted-level-3);\n",
       "}\n",
       "\n",
       ".sk-estimator-doc-link.fitted span {\n",
       "  /* fitted */\n",
       "  background: var(--sklearn-color-fitted-level-0);\n",
       "  border: var(--sklearn-color-fitted-level-3);\n",
       "}\n",
       "\n",
       ".sk-estimator-doc-link:hover span {\n",
       "  display: block;\n",
       "}\n",
       "\n",
       "/* \"?\"-specific style due to the `<a>` HTML tag */\n",
       "\n",
       "#sk-container-id-4 a.estimator_doc_link {\n",
       "  float: right;\n",
       "  font-size: 1rem;\n",
       "  line-height: 1em;\n",
       "  font-family: monospace;\n",
       "  background-color: var(--sklearn-color-background);\n",
       "  border-radius: 1rem;\n",
       "  height: 1rem;\n",
       "  width: 1rem;\n",
       "  text-decoration: none;\n",
       "  /* unfitted */\n",
       "  color: var(--sklearn-color-unfitted-level-1);\n",
       "  border: var(--sklearn-color-unfitted-level-1) 1pt solid;\n",
       "}\n",
       "\n",
       "#sk-container-id-4 a.estimator_doc_link.fitted {\n",
       "  /* fitted */\n",
       "  border: var(--sklearn-color-fitted-level-1) 1pt solid;\n",
       "  color: var(--sklearn-color-fitted-level-1);\n",
       "}\n",
       "\n",
       "/* On hover */\n",
       "#sk-container-id-4 a.estimator_doc_link:hover {\n",
       "  /* unfitted */\n",
       "  background-color: var(--sklearn-color-unfitted-level-3);\n",
       "  color: var(--sklearn-color-background);\n",
       "  text-decoration: none;\n",
       "}\n",
       "\n",
       "#sk-container-id-4 a.estimator_doc_link.fitted:hover {\n",
       "  /* fitted */\n",
       "  background-color: var(--sklearn-color-fitted-level-3);\n",
       "}\n",
       "</style><div id=\"sk-container-id-4\" class=\"sk-top-container\"><div class=\"sk-text-repr-fallback\"><pre>SVC()</pre><b>In a Jupyter environment, please rerun this cell to show the HTML representation or trust the notebook. <br />On GitHub, the HTML representation is unable to render, please try loading this page with nbviewer.org.</b></div><div class=\"sk-container\" hidden><div class=\"sk-item\"><div class=\"sk-estimator fitted sk-toggleable\"><input class=\"sk-toggleable__control sk-hidden--visually\" id=\"sk-estimator-id-4\" type=\"checkbox\" checked><label for=\"sk-estimator-id-4\" class=\"sk-toggleable__label fitted sk-toggleable__label-arrow fitted\">&nbsp;&nbsp;SVC<a class=\"sk-estimator-doc-link fitted\" rel=\"noreferrer\" target=\"_blank\" href=\"https://scikit-learn.org/1.4/modules/generated/sklearn.svm.SVC.html\">?<span>Documentation for SVC</span></a><span class=\"sk-estimator-doc-link fitted\">i<span>Fitted</span></span></label><div class=\"sk-toggleable__content fitted\"><pre>SVC()</pre></div> </div></div></div></div>"
      ],
      "text/plain": [
       "SVC()"
      ]
     },
     "execution_count": 150,
     "metadata": {},
     "output_type": "execute_result"
    }
   ],
   "source": [
    "#  Applying the SVM on the training dataset\n",
    "from sklearn.svm import SVC\n",
    "SVMModel_ini = SVC()\n",
    "SVMModel_ini.fit(X_train_tfidf,y_train)"
   ]
  },
  {
   "cell_type": "code",
   "execution_count": 151,
   "id": "1f9fc428-0bf5-452e-a718-61968d61b961",
   "metadata": {
    "tags": []
   },
   "outputs": [],
   "source": [
    "#Running the model on the test dataset\n",
    "y_pred_ini = SVMModel_ini.predict(X_test_tfidf)"
   ]
  },
  {
   "cell_type": "code",
   "execution_count": 154,
   "id": "586ac5a8-e135-46ce-a32b-84c59c15e3f0",
   "metadata": {
    "tags": []
   },
   "outputs": [
    {
     "data": {
      "text/plain": [
       "0.8397790055248618"
      ]
     },
     "execution_count": 154,
     "metadata": {},
     "output_type": "execute_result"
    }
   ],
   "source": [
    "accuracy_score(y_test,y_pred_ini)"
   ]
  },
  {
   "cell_type": "markdown",
   "id": "8e7c5068-82e3-44da-83cd-4734ce79d538",
   "metadata": {},
   "source": [
    "## Confusion Matrix "
   ]
  },
  {
   "cell_type": "code",
   "execution_count": 156,
   "id": "9b6e6fee-d97a-4577-9e87-83a1306fa9ee",
   "metadata": {
    "tags": []
   },
   "outputs": [
    {
     "name": "stdout",
     "output_type": "stream",
     "text": [
      "precision 1.0\n",
      "recall 0.9552238805970149\n"
     ]
    },
    {
     "data": {
      "text/plain": [
       "<sklearn.metrics._plot.confusion_matrix.ConfusionMatrixDisplay at 0x2162fd47e90>"
      ]
     },
     "execution_count": 156,
     "metadata": {},
     "output_type": "execute_result"
    },
    {
     "data": {
      "image/png": "[encoded data removed]",
      "text/plain": [
       "<Figure size 640x480 with 2 Axes>"
      ]
     },
     "metadata": {},
     "output_type": "display_data"
    }
   ],
   "source": [
    "# create the confusion matrix\n",
    "cm = confusion_matrix(y_test, y_pred_ini, labels=SVMModel_ini.classes_)\n",
    "# lets get the precision and recall numbers using confusion matrix itself\n",
    "\n",
    "CM=cm\n",
    "TN = CM[0][0]\n",
    "FN = CM[1][0]\n",
    "TP = CM[1][1]\n",
    "FP = CM[0][1]\n",
    "\n",
    "print(\"precision\",TP/(TP+FP))\n",
    "print(\"recall\", TP/(TP+FN))\n",
    "#lets display the confusion matrix\n",
    "from sklearn.metrics import ConfusionMatrixDisplay\n",
    "disp = ConfusionMatrixDisplay(confusion_matrix=cm,\n",
    "                         display_labels=SVMModel_ini.classes_)\n",
    "\n",
    "disp.plot()"
   ]
  },
  {
   "cell_type": "markdown",
   "id": "dfaf92bf-f772-4fec-8e6a-210958612a3b",
   "metadata": {},
   "source": [
    "### Roc curve"
   ]
  },
  {
   "cell_type": "code",
   "execution_count": 157,
   "id": "c3fd604e-2b32-416b-ba93-c75d8cbe3a70",
   "metadata": {
    "tags": []
   },
   "outputs": [
    {
     "data": {
      "image/png": "[encoded data removed]",
      "text/plain": [
       "<Figure size 800x600 with 1 Axes>"
      ]
     },
     "metadata": {},
     "output_type": "display_data"
    }
   ],
   "source": [
    "## Roc curve\n",
    "# Plotting ROC Curve\n",
    "preds =  SVMModel_ini.predict(X_test_tfidf)\n",
    "# Compute ROC curve and ROC area for each class\n",
    "fpr = dict()\n",
    "tpr = dict()\n",
    "roc_auc = dict()\n",
    "for i in range(len(y_probs[0])):\n",
    "    fpr[i], tpr[i], _ = roc_curve(y_test == i, y_probs[:, i])\n",
    "    roc_auc[i] = auc(fpr[i], tpr[i])\n",
    "\n",
    "# Plot ROC curves\n",
    "plt.figure(figsize=(8, 6))\n",
    "for i in range(len(y_probs[0])):\n",
    "    plt.plot(fpr[i], tpr[i], lw=2, label='ROC curve (class {}) (area = {:0.2f})'.format(i, roc_auc[i]))\n",
    "\n",
    "plt.plot([0, 1], [0, 1], color='navy', lw=2, linestyle='--')\n",
    "plt.xlim([0.0, 1.0])\n",
    "plt.ylim([0.0, 1.05])\n",
    "plt.xlabel('False Positive Rate')\n",
    "plt.ylabel('True Positive Rate')\n",
    "plt.title('Receiver Operating Characteristic (ROC) Curve for Multi-class')\n",
    "plt.legend(loc=\"lower right\")\n",
    "plt.show()"
   ]
  },
  {
   "cell_type": "markdown",
   "id": "725084b6-7c22-4408-8724-63421856431f",
   "metadata": {},
   "source": [
    "## Classification Report"
   ]
  },
  {
   "cell_type": "code",
   "execution_count": 158,
   "id": "731b97c1-1eee-4e51-8c4b-ee7ba7730dc1",
   "metadata": {
    "tags": []
   },
   "outputs": [
    {
     "name": "stdout",
     "output_type": "stream",
     "text": [
      "              precision    recall  f1-score   support\n",
      "\n",
      "           0       0.93      0.99      0.96       882\n",
      "           1       1.00      0.89      0.94       144\n",
      "           2       1.00      0.61      0.76        49\n",
      "           3       1.00      0.65      0.79       107\n",
      "           4       0.47      0.97      0.63       215\n",
      "           5       0.64      0.91      0.75        75\n",
      "           6       1.00      0.08      0.15        12\n",
      "           7       0.70      0.07      0.13       259\n",
      "           8       0.93      0.91      0.92       331\n",
      "           9       1.00      0.51      0.67        59\n",
      "          10       0.93      1.00      0.96       313\n",
      "          11       0.78      0.97      0.87        37\n",
      "          12       0.96      1.00      0.98        47\n",
      "          13       1.00      0.75      0.86         4\n",
      "\n",
      "    accuracy                           0.84      2534\n",
      "   macro avg       0.88      0.74      0.74      2534\n",
      "weighted avg       0.87      0.84      0.81      2534\n",
      "\n"
     ]
    }
   ],
   "source": [
    "# Classification Report\n",
    "print(classification_report(y_test,SVMModel_ini.predict(X_test_tfidf)))"
   ]
  },
  {
   "cell_type": "markdown",
   "id": "501e37bd-4bae-4a01-b445-187d82b7d298",
   "metadata": {},
   "source": [
    "## Hyperparameter Tunning"
   ]
  },
  {
   "cell_type": "code",
   "execution_count": 159,
   "id": "9ad2e819-43b2-4410-8372-a7d419e3a4ef",
   "metadata": {
    "tags": []
   },
   "outputs": [],
   "source": [
    "#Using Grid Search cross validation technique we will find the best value of hyper parameters - \n",
    "#Here we are finding the best kernel\n",
    "from sklearn.model_selection import GridSearchCV\n",
    "parameters = [ {'kernel': ['rbf','poly','sigmoid']}]\n",
    "grid_search = GridSearchCV(estimator = SVMModel_ini,\n",
    "                           param_grid = parameters,\n",
    "                           scoring = 'accuracy',\n",
    "                           cv = 10,\n",
    "                           n_jobs = -1)\n",
    "grid_search = grid_search.fit(X_train_tfidf, y_train)\n",
    "best_accuracy = grid_search.best_score_\n",
    "best_parameters = grid_search.best_params_"
   ]
  },
  {
   "cell_type": "code",
   "execution_count": 160,
   "id": "d81eb99c-6136-443e-b3d7-4a42cc25ab9b",
   "metadata": {
    "tags": []
   },
   "outputs": [
    {
     "data": {
      "text/plain": [
       "{'kernel': 'sigmoid'}"
      ]
     },
     "execution_count": 160,
     "metadata": {},
     "output_type": "execute_result"
    }
   ],
   "source": [
    "best_parameters\n"
   ]
  },
  {
   "cell_type": "code",
   "execution_count": 161,
   "id": "a470906a-e23a-494f-9ca7-807ab7d95fd9",
   "metadata": {
    "tags": []
   },
   "outputs": [
    {
     "data": {
      "text/html": [
       "<style>#sk-container-id-5 {\n",
       "  /* Definition of color scheme common for light and dark mode */\n",
       "  --sklearn-color-text: black;\n",
       "  --sklearn-color-line: gray;\n",
       "  /* Definition of color scheme for unfitted estimators */\n",
       "  --sklearn-color-unfitted-level-0: #fff5e6;\n",
       "  --sklearn-color-unfitted-level-1: #f6e4d2;\n",
       "  --sklearn-color-unfitted-level-2: #ffe0b3;\n",
       "  --sklearn-color-unfitted-level-3: chocolate;\n",
       "  /* Definition of color scheme for fitted estimators */\n",
       "  --sklearn-color-fitted-level-0: #f0f8ff;\n",
       "  --sklearn-color-fitted-level-1: #d4ebff;\n",
       "  --sklearn-color-fitted-level-2: #b3dbfd;\n",
       "  --sklearn-color-fitted-level-3: cornflowerblue;\n",
       "\n",
       "  /* Specific color for light theme */\n",
       "  --sklearn-color-text-on-default-background: var(--sg-text-color, var(--theme-code-foreground, var(--jp-content-font-color1, black)));\n",
       "  --sklearn-color-background: var(--sg-background-color, var(--theme-background, var(--jp-layout-color0, white)));\n",
       "  --sklearn-color-border-box: var(--sg-text-color, var(--theme-code-foreground, var(--jp-content-font-color1, black)));\n",
       "  --sklearn-color-icon: #696969;\n",
       "\n",
       "  @media (prefers-color-scheme: dark) {\n",
       "    /* Redefinition of color scheme for dark theme */\n",
       "    --sklearn-color-text-on-default-background: var(--sg-text-color, var(--theme-code-foreground, var(--jp-content-font-color1, white)));\n",
       "    --sklearn-color-background: var(--sg-background-color, var(--theme-background, var(--jp-layout-color0, #111)));\n",
       "    --sklearn-color-border-box: var(--sg-text-color, var(--theme-code-foreground, var(--jp-content-font-color1, white)));\n",
       "    --sklearn-color-icon: #878787;\n",
       "  }\n",
       "}\n",
       "\n",
       "#sk-container-id-5 {\n",
       "  color: var(--sklearn-color-text);\n",
       "}\n",
       "\n",
       "#sk-container-id-5 pre {\n",
       "  padding: 0;\n",
       "}\n",
       "\n",
       "#sk-container-id-5 input.sk-hidden--visually {\n",
       "  border: 0;\n",
       "  clip: rect(1px 1px 1px 1px);\n",
       "  clip: rect(1px, 1px, 1px, 1px);\n",
       "  height: 1px;\n",
       "  margin: -1px;\n",
       "  overflow: hidden;\n",
       "  padding: 0;\n",
       "  position: absolute;\n",
       "  width: 1px;\n",
       "}\n",
       "\n",
       "#sk-container-id-5 div.sk-dashed-wrapped {\n",
       "  border: 1px dashed var(--sklearn-color-line);\n",
       "  margin: 0 0.4em 0.5em 0.4em;\n",
       "  box-sizing: border-box;\n",
       "  padding-bottom: 0.4em;\n",
       "  background-color: var(--sklearn-color-background);\n",
       "}\n",
       "\n",
       "#sk-container-id-5 div.sk-container {\n",
       "  /* jupyter's `normalize.less` sets `[hidden] { display: none; }`\n",
       "     but bootstrap.min.css set `[hidden] { display: none !important; }`\n",
       "     so we also need the `!important` here to be able to override the\n",
       "     default hidden behavior on the sphinx rendered scikit-learn.org.\n",
       "     See: https://github.com/scikit-learn/scikit-learn/issues/21755 */\n",
       "  display: inline-block !important;\n",
       "  position: relative;\n",
       "}\n",
       "\n",
       "#sk-container-id-5 div.sk-text-repr-fallback {\n",
       "  display: none;\n",
       "}\n",
       "\n",
       "div.sk-parallel-item,\n",
       "div.sk-serial,\n",
       "div.sk-item {\n",
       "  /* draw centered vertical line to link estimators */\n",
       "  background-image: linear-gradient(var(--sklearn-color-text-on-default-background), var(--sklearn-color-text-on-default-background));\n",
       "  background-size: 2px 100%;\n",
       "  background-repeat: no-repeat;\n",
       "  background-position: center center;\n",
       "}\n",
       "\n",
       "/* Parallel-specific style estimator block */\n",
       "\n",
       "#sk-container-id-5 div.sk-parallel-item::after {\n",
       "  content: \"\";\n",
       "  width: 100%;\n",
       "  border-bottom: 2px solid var(--sklearn-color-text-on-default-background);\n",
       "  flex-grow: 1;\n",
       "}\n",
       "\n",
       "#sk-container-id-5 div.sk-parallel {\n",
       "  display: flex;\n",
       "  align-items: stretch;\n",
       "  justify-content: center;\n",
       "  background-color: var(--sklearn-color-background);\n",
       "  position: relative;\n",
       "}\n",
       "\n",
       "#sk-container-id-5 div.sk-parallel-item {\n",
       "  display: flex;\n",
       "  flex-direction: column;\n",
       "}\n",
       "\n",
       "#sk-container-id-5 div.sk-parallel-item:first-child::after {\n",
       "  align-self: flex-end;\n",
       "  width: 50%;\n",
       "}\n",
       "\n",
       "#sk-container-id-5 div.sk-parallel-item:last-child::after {\n",
       "  align-self: flex-start;\n",
       "  width: 50%;\n",
       "}\n",
       "\n",
       "#sk-container-id-5 div.sk-parallel-item:only-child::after {\n",
       "  width: 0;\n",
       "}\n",
       "\n",
       "/* Serial-specific style estimator block */\n",
       "\n",
       "#sk-container-id-5 div.sk-serial {\n",
       "  display: flex;\n",
       "  flex-direction: column;\n",
       "  align-items: center;\n",
       "  background-color: var(--sklearn-color-background);\n",
       "  padding-right: 1em;\n",
       "  padding-left: 1em;\n",
       "}\n",
       "\n",
       "\n",
       "/* Toggleable style: style used for estimator/Pipeline/ColumnTransformer box that is\n",
       "clickable and can be expanded/collapsed.\n",
       "- Pipeline and ColumnTransformer use this feature and define the default style\n",
       "- Estimators will overwrite some part of the style using the `sk-estimator` class\n",
       "*/\n",
       "\n",
       "/* Pipeline and ColumnTransformer style (default) */\n",
       "\n",
       "#sk-container-id-5 div.sk-toggleable {\n",
       "  /* Default theme specific background. It is overwritten whether we have a\n",
       "  specific estimator or a Pipeline/ColumnTransformer */\n",
       "  background-color: var(--sklearn-color-background);\n",
       "}\n",
       "\n",
       "/* Toggleable label */\n",
       "#sk-container-id-5 label.sk-toggleable__label {\n",
       "  cursor: pointer;\n",
       "  display: block;\n",
       "  width: 100%;\n",
       "  margin-bottom: 0;\n",
       "  padding: 0.5em;\n",
       "  box-sizing: border-box;\n",
       "  text-align: center;\n",
       "}\n",
       "\n",
       "#sk-container-id-5 label.sk-toggleable__label-arrow:before {\n",
       "  /* Arrow on the left of the label */\n",
       "  content: \"▸\";\n",
       "  float: left;\n",
       "  margin-right: 0.25em;\n",
       "  color: var(--sklearn-color-icon);\n",
       "}\n",
       "\n",
       "#sk-container-id-5 label.sk-toggleable__label-arrow:hover:before {\n",
       "  color: var(--sklearn-color-text);\n",
       "}\n",
       "\n",
       "/* Toggleable content - dropdown */\n",
       "\n",
       "#sk-container-id-5 div.sk-toggleable__content {\n",
       "  max-height: 0;\n",
       "  max-width: 0;\n",
       "  overflow: hidden;\n",
       "  text-align: left;\n",
       "  /* unfitted */\n",
       "  background-color: var(--sklearn-color-unfitted-level-0);\n",
       "}\n",
       "\n",
       "#sk-container-id-5 div.sk-toggleable__content.fitted {\n",
       "  /* fitted */\n",
       "  background-color: var(--sklearn-color-fitted-level-0);\n",
       "}\n",
       "\n",
       "#sk-container-id-5 div.sk-toggleable__content pre {\n",
       "  margin: 0.2em;\n",
       "  border-radius: 0.25em;\n",
       "  color: var(--sklearn-color-text);\n",
       "  /* unfitted */\n",
       "  background-color: var(--sklearn-color-unfitted-level-0);\n",
       "}\n",
       "\n",
       "#sk-container-id-5 div.sk-toggleable__content.fitted pre {\n",
       "  /* unfitted */\n",
       "  background-color: var(--sklearn-color-fitted-level-0);\n",
       "}\n",
       "\n",
       "#sk-container-id-5 input.sk-toggleable__control:checked~div.sk-toggleable__content {\n",
       "  /* Expand drop-down */\n",
       "  max-height: 200px;\n",
       "  max-width: 100%;\n",
       "  overflow: auto;\n",
       "}\n",
       "\n",
       "#sk-container-id-5 input.sk-toggleable__control:checked~label.sk-toggleable__label-arrow:before {\n",
       "  content: \"▾\";\n",
       "}\n",
       "\n",
       "/* Pipeline/ColumnTransformer-specific style */\n",
       "\n",
       "#sk-container-id-5 div.sk-label input.sk-toggleable__control:checked~label.sk-toggleable__label {\n",
       "  color: var(--sklearn-color-text);\n",
       "  background-color: var(--sklearn-color-unfitted-level-2);\n",
       "}\n",
       "\n",
       "#sk-container-id-5 div.sk-label.fitted input.sk-toggleable__control:checked~label.sk-toggleable__label {\n",
       "  background-color: var(--sklearn-color-fitted-level-2);\n",
       "}\n",
       "\n",
       "/* Estimator-specific style */\n",
       "\n",
       "/* Colorize estimator box */\n",
       "#sk-container-id-5 div.sk-estimator input.sk-toggleable__control:checked~label.sk-toggleable__label {\n",
       "  /* unfitted */\n",
       "  background-color: var(--sklearn-color-unfitted-level-2);\n",
       "}\n",
       "\n",
       "#sk-container-id-5 div.sk-estimator.fitted input.sk-toggleable__control:checked~label.sk-toggleable__label {\n",
       "  /* fitted */\n",
       "  background-color: var(--sklearn-color-fitted-level-2);\n",
       "}\n",
       "\n",
       "#sk-container-id-5 div.sk-label label.sk-toggleable__label,\n",
       "#sk-container-id-5 div.sk-label label {\n",
       "  /* The background is the default theme color */\n",
       "  color: var(--sklearn-color-text-on-default-background);\n",
       "}\n",
       "\n",
       "/* On hover, darken the color of the background */\n",
       "#sk-container-id-5 div.sk-label:hover label.sk-toggleable__label {\n",
       "  color: var(--sklearn-color-text);\n",
       "  background-color: var(--sklearn-color-unfitted-level-2);\n",
       "}\n",
       "\n",
       "/* Label box, darken color on hover, fitted */\n",
       "#sk-container-id-5 div.sk-label.fitted:hover label.sk-toggleable__label.fitted {\n",
       "  color: var(--sklearn-color-text);\n",
       "  background-color: var(--sklearn-color-fitted-level-2);\n",
       "}\n",
       "\n",
       "/* Estimator label */\n",
       "\n",
       "#sk-container-id-5 div.sk-label label {\n",
       "  font-family: monospace;\n",
       "  font-weight: bold;\n",
       "  display: inline-block;\n",
       "  line-height: 1.2em;\n",
       "}\n",
       "\n",
       "#sk-container-id-5 div.sk-label-container {\n",
       "  text-align: center;\n",
       "}\n",
       "\n",
       "/* Estimator-specific */\n",
       "#sk-container-id-5 div.sk-estimator {\n",
       "  font-family: monospace;\n",
       "  border: 1px dotted var(--sklearn-color-border-box);\n",
       "  border-radius: 0.25em;\n",
       "  box-sizing: border-box;\n",
       "  margin-bottom: 0.5em;\n",
       "  /* unfitted */\n",
       "  background-color: var(--sklearn-color-unfitted-level-0);\n",
       "}\n",
       "\n",
       "#sk-container-id-5 div.sk-estimator.fitted {\n",
       "  /* fitted */\n",
       "  background-color: var(--sklearn-color-fitted-level-0);\n",
       "}\n",
       "\n",
       "/* on hover */\n",
       "#sk-container-id-5 div.sk-estimator:hover {\n",
       "  /* unfitted */\n",
       "  background-color: var(--sklearn-color-unfitted-level-2);\n",
       "}\n",
       "\n",
       "#sk-container-id-5 div.sk-estimator.fitted:hover {\n",
       "  /* fitted */\n",
       "  background-color: var(--sklearn-color-fitted-level-2);\n",
       "}\n",
       "\n",
       "/* Specification for estimator info (e.g. \"i\" and \"?\") */\n",
       "\n",
       "/* Common style for \"i\" and \"?\" */\n",
       "\n",
       ".sk-estimator-doc-link,\n",
       "a:link.sk-estimator-doc-link,\n",
       "a:visited.sk-estimator-doc-link {\n",
       "  float: right;\n",
       "  font-size: smaller;\n",
       "  line-height: 1em;\n",
       "  font-family: monospace;\n",
       "  background-color: var(--sklearn-color-background);\n",
       "  border-radius: 1em;\n",
       "  height: 1em;\n",
       "  width: 1em;\n",
       "  text-decoration: none !important;\n",
       "  margin-left: 1ex;\n",
       "  /* unfitted */\n",
       "  border: var(--sklearn-color-unfitted-level-1) 1pt solid;\n",
       "  color: var(--sklearn-color-unfitted-level-1);\n",
       "}\n",
       "\n",
       ".sk-estimator-doc-link.fitted,\n",
       "a:link.sk-estimator-doc-link.fitted,\n",
       "a:visited.sk-estimator-doc-link.fitted {\n",
       "  /* fitted */\n",
       "  border: var(--sklearn-color-fitted-level-1) 1pt solid;\n",
       "  color: var(--sklearn-color-fitted-level-1);\n",
       "}\n",
       "\n",
       "/* On hover */\n",
       "div.sk-estimator:hover .sk-estimator-doc-link:hover,\n",
       ".sk-estimator-doc-link:hover,\n",
       "div.sk-label-container:hover .sk-estimator-doc-link:hover,\n",
       ".sk-estimator-doc-link:hover {\n",
       "  /* unfitted */\n",
       "  background-color: var(--sklearn-color-unfitted-level-3);\n",
       "  color: var(--sklearn-color-background);\n",
       "  text-decoration: none;\n",
       "}\n",
       "\n",
       "div.sk-estimator.fitted:hover .sk-estimator-doc-link.fitted:hover,\n",
       ".sk-estimator-doc-link.fitted:hover,\n",
       "div.sk-label-container:hover .sk-estimator-doc-link.fitted:hover,\n",
       ".sk-estimator-doc-link.fitted:hover {\n",
       "  /* fitted */\n",
       "  background-color: var(--sklearn-color-fitted-level-3);\n",
       "  color: var(--sklearn-color-background);\n",
       "  text-decoration: none;\n",
       "}\n",
       "\n",
       "/* Span, style for the box shown on hovering the info icon */\n",
       ".sk-estimator-doc-link span {\n",
       "  display: none;\n",
       "  z-index: 9999;\n",
       "  position: relative;\n",
       "  font-weight: normal;\n",
       "  right: .2ex;\n",
       "  padding: .5ex;\n",
       "  margin: .5ex;\n",
       "  width: min-content;\n",
       "  min-width: 20ex;\n",
       "  max-width: 50ex;\n",
       "  color: var(--sklearn-color-text);\n",
       "  box-shadow: 2pt 2pt 4pt #999;\n",
       "  /* unfitted */\n",
       "  background: var(--sklearn-color-unfitted-level-0);\n",
       "  border: .5pt solid var(--sklearn-color-unfitted-level-3);\n",
       "}\n",
       "\n",
       ".sk-estimator-doc-link.fitted span {\n",
       "  /* fitted */\n",
       "  background: var(--sklearn-color-fitted-level-0);\n",
       "  border: var(--sklearn-color-fitted-level-3);\n",
       "}\n",
       "\n",
       ".sk-estimator-doc-link:hover span {\n",
       "  display: block;\n",
       "}\n",
       "\n",
       "/* \"?\"-specific style due to the `<a>` HTML tag */\n",
       "\n",
       "#sk-container-id-5 a.estimator_doc_link {\n",
       "  float: right;\n",
       "  font-size: 1rem;\n",
       "  line-height: 1em;\n",
       "  font-family: monospace;\n",
       "  background-color: var(--sklearn-color-background);\n",
       "  border-radius: 1rem;\n",
       "  height: 1rem;\n",
       "  width: 1rem;\n",
       "  text-decoration: none;\n",
       "  /* unfitted */\n",
       "  color: var(--sklearn-color-unfitted-level-1);\n",
       "  border: var(--sklearn-color-unfitted-level-1) 1pt solid;\n",
       "}\n",
       "\n",
       "#sk-container-id-5 a.estimator_doc_link.fitted {\n",
       "  /* fitted */\n",
       "  border: var(--sklearn-color-fitted-level-1) 1pt solid;\n",
       "  color: var(--sklearn-color-fitted-level-1);\n",
       "}\n",
       "\n",
       "/* On hover */\n",
       "#sk-container-id-5 a.estimator_doc_link:hover {\n",
       "  /* unfitted */\n",
       "  background-color: var(--sklearn-color-unfitted-level-3);\n",
       "  color: var(--sklearn-color-background);\n",
       "  text-decoration: none;\n",
       "}\n",
       "\n",
       "#sk-container-id-5 a.estimator_doc_link.fitted:hover {\n",
       "  /* fitted */\n",
       "  background-color: var(--sklearn-color-fitted-level-3);\n",
       "}\n",
       "</style><div id=\"sk-container-id-5\" class=\"sk-top-container\"><div class=\"sk-text-repr-fallback\"><pre>SVC(C=1, gamma=1)</pre><b>In a Jupyter environment, please rerun this cell to show the HTML representation or trust the notebook. <br />On GitHub, the HTML representation is unable to render, please try loading this page with nbviewer.org.</b></div><div class=\"sk-container\" hidden><div class=\"sk-item\"><div class=\"sk-estimator fitted sk-toggleable\"><input class=\"sk-toggleable__control sk-hidden--visually\" id=\"sk-estimator-id-5\" type=\"checkbox\" checked><label for=\"sk-estimator-id-5\" class=\"sk-toggleable__label fitted sk-toggleable__label-arrow fitted\">&nbsp;&nbsp;SVC<a class=\"sk-estimator-doc-link fitted\" rel=\"noreferrer\" target=\"_blank\" href=\"https://scikit-learn.org/1.4/modules/generated/sklearn.svm.SVC.html\">?<span>Documentation for SVC</span></a><span class=\"sk-estimator-doc-link fitted\">i<span>Fitted</span></span></label><div class=\"sk-toggleable__content fitted\"><pre>SVC(C=1, gamma=1)</pre></div> </div></div></div></div>"
      ],
      "text/plain": [
       "SVC(C=1, gamma=1)"
      ]
     },
     "execution_count": 161,
     "metadata": {},
     "output_type": "execute_result"
    }
   ],
   "source": [
    "#Applying the SVM on the training dataset\n",
    "from sklearn.svm import SVC\n",
    "SVMModel_tuned = SVC(kernel='rbf',gamma=1, C=1)\n",
    "SVMModel_tuned.fit(X_train_tfidf,y_train)"
   ]
  },
  {
   "cell_type": "code",
   "execution_count": 162,
   "id": "c17f94be-a2af-4951-ae13-1293921a48ad",
   "metadata": {
    "tags": []
   },
   "outputs": [],
   "source": [
    "#Running the model on the test dataset\n",
    "y_pred_tuned = SVMModel_tuned.predict(X_test_tfidf)"
   ]
  },
  {
   "cell_type": "code",
   "execution_count": 163,
   "id": "8df7f4f3-cf3b-4236-b8ff-52f87fd7e76a",
   "metadata": {
    "tags": []
   },
   "outputs": [
    {
     "data": {
      "text/plain": [
       "0.8397790055248618"
      ]
     },
     "execution_count": 163,
     "metadata": {},
     "output_type": "execute_result"
    }
   ],
   "source": [
    "#Using accuracy score we are checking the accuracy on the testing dataset\n",
    "accuracy_score(y_test,y_pred_tuned)"
   ]
  },
  {
   "cell_type": "code",
   "execution_count": 166,
   "id": "d15c5348-3b42-429e-bdf6-94f7db150d97",
   "metadata": {
    "tags": []
   },
   "outputs": [],
   "source": [
    "##Performimg Cross validation\n",
    "from sklearn.model_selection import cross_val_score, KFold\n",
    "from sklearn.svm import SVC"
   ]
  },
  {
   "cell_type": "markdown",
   "id": "909b06e6-6092-4fee-8da9-464f77dd0d51",
   "metadata": {},
   "source": [
    "## KEY OBSERVATIONS\n",
    "\n",
    "## Accuracy with Hyperparameter Tunning --> 0.84\n",
    "\n",
    "### Accuracy Without Hyperparameter Tuning -->  0..84\n",
    "\n",
    "### We can observe that  Both models have same accuracy."
   ]
  },
  {
   "cell_type": "markdown",
   "id": "468db872-5fb0-4622-bc45-15855b5db149",
   "metadata": {},
   "source": [
    "# XGBoost"
   ]
  },
  {
   "cell_type": "code",
   "execution_count": 172,
   "id": "6e87832b-8720-466c-a687-28d3567fc383",
   "metadata": {
    "tags": []
   },
   "outputs": [],
   "source": [
    "# import xgboost\n",
    "import xgboost as xgb\n",
    "# create an XG Boost classifier\n",
    "xg_reg = xgb.XGBClassifier( n_estimators = 10)"
   ]
  },
  {
   "cell_type": "code",
   "execution_count": 173,
   "id": "9df67788-03f1-47bd-8a67-8dbd1838e7fd",
   "metadata": {
    "tags": []
   },
   "outputs": [],
   "source": [
    "# Fit and predict from the model\n",
    "xg_reg.fit(X_train_tfidf,y_train)\n",
    "\n",
    "preds = xg_reg.predict(X_test_tfidf)"
   ]
  },
  {
   "cell_type": "code",
   "execution_count": 174,
   "id": "7cfe531c-fcca-4c05-afb1-808526946692",
   "metadata": {
    "tags": []
   },
   "outputs": [
    {
     "name": "stdout",
     "output_type": "stream",
     "text": [
      "Classification Report:\n",
      "              precision    recall  f1-score   support\n",
      "\n",
      "           0       0.94      0.98      0.96       882\n",
      "           1       0.99      0.95      0.97       144\n",
      "           2       0.76      0.76      0.76        49\n",
      "           3       0.99      0.80      0.89       107\n",
      "           4       0.43      0.72      0.54       215\n",
      "           5       0.88      0.93      0.90        75\n",
      "           6       0.09      0.08      0.09        12\n",
      "           7       0.64      0.08      0.14       259\n",
      "           8       0.98      0.99      0.99       331\n",
      "           9       0.91      0.86      0.89        59\n",
      "          10       0.99      1.00      0.99       313\n",
      "          11       0.34      0.92      0.50        37\n",
      "          12       0.96      0.91      0.93        47\n",
      "          13       0.80      1.00      0.89         4\n",
      "\n",
      "    accuracy                           0.85      2534\n",
      "   macro avg       0.76      0.79      0.75      2534\n",
      "weighted avg       0.86      0.85      0.83      2534\n",
      "\n"
     ]
    }
   ],
   "source": [
    "# Generate classification report\n",
    "report = classification_report(y_test, preds)\n",
    "\n",
    "print(\"Classification Report:\")\n",
    "print(report)"
   ]
  },
  {
   "cell_type": "code",
   "execution_count": 175,
   "id": "d2455ad6-cf68-42ee-b312-a6216bee5937",
   "metadata": {
    "tags": []
   },
   "outputs": [
    {
     "name": "stdout",
     "output_type": "stream",
     "text": [
      "Accuracy: 0.8464877663772692\n"
     ]
    }
   ],
   "source": [
    "# print the accuracy\n",
    "print(\"Accuracy:\",accuracy_score(y_test, preds))\n"
   ]
  },
  {
   "cell_type": "code",
   "execution_count": 176,
   "id": "9df8bcd1-6d99-411a-801c-5456c93f6f29",
   "metadata": {
    "tags": []
   },
   "outputs": [
    {
     "data": {
      "image/png": "[encoded data removed]",
      "text/plain": [
       "<Figure size 800x600 with 1 Axes>"
      ]
     },
     "metadata": {},
     "output_type": "display_data"
    }
   ],
   "source": [
    "## Roc curve\n",
    "# Plotting ROC Curve\n",
    "preds = xg_reg.predict(X_test_tfidf)\n",
    "# Compute ROC curve and ROC area for each class\n",
    "fpr = dict()\n",
    "tpr = dict()\n",
    "roc_auc = dict()\n",
    "for i in range(len(y_probs[0])):\n",
    "    fpr[i], tpr[i], _ = roc_curve(y_test == i, y_probs[:, i])\n",
    "    roc_auc[i] = auc(fpr[i], tpr[i])\n",
    "\n",
    "# Plot ROC curves\n",
    "plt.figure(figsize=(8, 6))\n",
    "for i in range(len(y_probs[0])):\n",
    "    plt.plot(fpr[i], tpr[i], lw=2, label='ROC curve (class {}) (area = {:0.2f})'.format(i, roc_auc[i]))\n",
    "\n",
    "plt.plot([0, 1], [0, 1], color='navy', lw=2, linestyle='--')\n",
    "plt.xlim([0.0, 1.0])\n",
    "plt.ylim([0.0, 1.05])\n",
    "plt.xlabel('False Positive Rate')\n",
    "plt.ylabel('True Positive Rate')\n",
    "plt.title('Receiver Operating Characteristic (ROC) Curve for Multi-class')\n",
    "plt.legend(loc=\"lower right\")\n",
    "plt.show()"
   ]
  },
  {
   "cell_type": "code",
   "execution_count": 178,
   "id": "d16d36ef-e6f2-4e7b-a077-ea4bf601b167",
   "metadata": {
    "tags": []
   },
   "outputs": [],
   "source": [
    "# create the confusion matrix\n",
    "cm = confusion_matrix(y_test, preds, labels=xg_reg.classes_)"
   ]
  },
  {
   "cell_type": "code",
   "execution_count": null,
   "id": "85ab14d7-3c66-429e-b066-0c920c3ef5c9",
   "metadata": {
    "tags": []
   },
   "outputs": [],
   "source": [
    "# lets get the precision and recall numbers using confusion matrix itself\n",
    "\n",
    "CM=cm\n",
    "TN = CM[0][0]\n",
    "FN = CM[1][0]\n",
    "TP = CM[1][1]\n",
    "FP = CM[0][1]\n",
    "\n",
    "print(\"precision\",TP/(TP+FP))\n",
    "print(\"recall\", TP/(TP+FN))"
   ]
  },
  {
   "cell_type": "code",
   "execution_count": null,
   "id": "7298b700-f23b-4386-ac3e-e8d4f04c2f9e",
   "metadata": {
    "tags": []
   },
   "outputs": [],
   "source": [
    "#lets display the confusion matrix\n",
    "from sklearn.metrics import ConfusionMatrixDisplay\n",
    "disp = ConfusionMatrixDisplay(confusion_matrix=cm,\n",
    "                         display_labels=xg_reg.classes_)\n",
    "disp.plot()"
   ]
  },
  {
   "cell_type": "code",
   "execution_count": null,
   "id": "16737a9b-1f7e-40a1-ab35-df092b77e2e9",
   "metadata": {
    "tags": []
   },
   "outputs": [],
   "source": [
    "print(\"Accuracy:\", accuracy)"
   ]
  },
  {
   "cell_type": "markdown",
   "id": "20b14f4b-2e70-4106-be6a-384284a8dfc3",
   "metadata": {},
   "source": []
  },
  {
   "cell_type": "markdown",
   "id": "83a85623-a766-4859-8770-b6a27ba55845",
   "metadata": {},
   "source": [
    "## Using Cross Validation\n",
    "##### Here we are using SVM model ."
   ]
  },
  {
   "cell_type": "code",
   "execution_count": null,
   "id": "9961368c-4b17-4813-a0d2-e4e6ad9371b1",
   "metadata": {
    "tags": []
   },
   "outputs": [],
   "source": [
    "\n",
    "# Initialize cross-validation iterator (example using 5-fold cross-validation)\n",
    "kf = KFold(n_splits=5, shuffle=True, random_state=42)\n",
    "\n",
    "# Perform cross-validation\n",
    "cv_scores = cross_val_score(svm_model, X_test_tfidf, y_test,\n",
    "                            cv=kf)\n",
    "\n",
    "# Print cross-validation scores\n",
    "print(\"Cross-Validation Scores:\", cv_scores)\n",
    "\n",
    "# Compute and print mean accuracy\n",
    "mean_accuracy = cv_scores.mean()\n",
    "print(\"Mean Accuracy:\", mean_accuracy)"
   ]
  },
  {
   "cell_type": "markdown",
   "id": "8533d2f4-f3bf-49ff-ab6c-5342526c4375",
   "metadata": {
    "tags": []
   },
   "source": [
    "## Conclusions\n",
    "\n",
    "\n",
    "1. Dataset  has lot of imbalance like category cloth dominate the dataset , there are 70% of product with no ratings available, etc.\n",
    "\n",
    "2.Hyperparameter Tuning has not drastically increased the accuracy and precision of the models in the given dataset.\n",
    "\n",
    "3. XGBoost  has Achieved the highest Accuracy of the 84.6%.\n",
    "\n",
    "4.Tf-idf vectorisation performed better than Embedding .\n",
    "\n",
    "5. Cross validation has increase the accuracy significantly of all the models .\n",
    "\n",
    "\n"
   ]
  },
  {
   "cell_type": "code",
   "execution_count": null,
   "id": "66caf968-8572-4d4f-aabf-21d5ff3bbdf3",
   "metadata": {},
   "outputs": [],
   "source": []
  },
  {
   "cell_type": "code",
   "execution_count": null,
   "id": "2454be17-9ec1-43bc-a7f4-e98233966765",
   "metadata": {},
   "outputs": [],
   "source": []
  }
 ],
 "metadata": {
  "kernelspec": {
   "display_name": "Python 3 (ipykernel)",
   "language": "python",
   "name": "python3"
  },
  "language_info": {
   "codemirror_mode": {
    "name": "ipython",
    "version": 3
   },
   "file_extension": ".py",
   "mimetype": "text/x-python",
   "name": "python",
   "nbconvert_exporter": "python",
   "pygments_lexer": "ipython3",
   "version": "3.11.5"
  }
 },
 "nbformat": 4,
 "nbformat_minor": 5
}
